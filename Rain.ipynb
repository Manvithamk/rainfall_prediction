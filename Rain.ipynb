{
  "cells": [
    {
      "cell_type": "markdown",
      "metadata": {
        "id": "view-in-github",
        "colab_type": "text"
      },
      "source": [
        "<a href=\"https://colab.research.google.com/github/Manvithamk/rainfall_prediction/blob/main/Rain.ipynb\" target=\"_parent\"><img src=\"https://colab.research.google.com/assets/colab-badge.svg\" alt=\"Open In Colab\"/></a>"
      ]
    },
    {
      "cell_type": "code",
      "execution_count": null,
      "metadata": {
        "id": "gDR-1IsWxdQ8"
      },
      "outputs": [],
      "source": [
        "#importing necessary library\n",
        "import pandas as pd\n",
        "import numpy as np\n",
        "import matplotlib.pyplot as plt\n",
        "import seaborn as sns\n",
        "%matplotlib inline\n",
        "from sklearn.svm import SVC\n",
        "from sklearn.metrics import accuracy_score\n",
        "from sklearn.preprocessing import StandardScaler\n",
        "from sklearn.model_selection import train_test_split, cross_val_score, StratifiedKFold\n",
        "from sklearn.model_selection import KFold\n",
        "from tensorflow.keras.models import Sequential\n",
        "from tensorflow.keras.layers import GRU, Dense\n",
        "from tensorflow.keras.layers import SimpleRNN\n",
        "from tensorflow.keras.layers import LSTM, Dense\n",
        "from sklearn.experimental import enable_iterative_imputer\n",
        "from sklearn.impute import IterativeImputer\n",
        "from imblearn.over_sampling import SMOTE\n",
        "from sklearn.metrics import mean_squared_error\n",
        "from sklearn.metrics import accuracy_score, precision_score, recall_score, f1_score\n",
        "from sklearn.metrics import mean_squared_error, mean_absolute_error"
      ]
    },
    {
      "cell_type": "code",
      "execution_count": null,
      "metadata": {
        "id": "G-v6t09o20M4",
        "colab": {
          "base_uri": "https://localhost:8080/"
        },
        "outputId": "dbe3c3cf-36e8-439c-f7d5-de8c9527d818"
      },
      "outputs": [
        {
          "output_type": "stream",
          "name": "stdout",
          "text": [
            "Drive already mounted at /content/drive; to attempt to forcibly remount, call drive.mount(\"/content/drive\", force_remount=True).\n"
          ]
        }
      ],
      "source": [
        "from google.colab import drive\n",
        "drive.mount('/content/drive')"
      ]
    },
    {
      "cell_type": "code",
      "execution_count": null,
      "metadata": {
        "id": "V9tqzhly21Oj"
      },
      "outputs": [],
      "source": [
        " rain = pd.read_csv('/content/drive/MyDrive/dataset/weatherAUS.csv')"
      ]
    },
    {
      "cell_type": "code",
      "execution_count": null,
      "metadata": {
        "id": "nKsG5fYD3YeP",
        "colab": {
          "base_uri": "https://localhost:8080/",
          "height": 236
        },
        "outputId": "11b2dcce-afd3-44cb-87c5-8165271ad379"
      },
      "outputs": [
        {
          "output_type": "execute_result",
          "data": {
            "text/plain": [
              "         Date Location  MinTemp  MaxTemp  Rainfall  Evaporation  Sunshine  \\\n",
              "0  2008-12-01   Albury     13.4     22.9       0.6          NaN       NaN   \n",
              "1  2008-12-02   Albury      7.4     25.1       0.0          NaN       NaN   \n",
              "2  2008-12-03   Albury     12.9     25.7       0.0          NaN       NaN   \n",
              "3  2008-12-04   Albury      9.2     28.0       0.0          NaN       NaN   \n",
              "4  2008-12-05   Albury     17.5     32.3       1.0          NaN       NaN   \n",
              "\n",
              "  WindGustDir  WindGustSpeed WindDir9am  ... Humidity9am  Humidity3pm  \\\n",
              "0           W           44.0          W  ...        71.0         22.0   \n",
              "1         WNW           44.0        NNW  ...        44.0         25.0   \n",
              "2         WSW           46.0          W  ...        38.0         30.0   \n",
              "3          NE           24.0         SE  ...        45.0         16.0   \n",
              "4           W           41.0        ENE  ...        82.0         33.0   \n",
              "\n",
              "   Pressure9am  Pressure3pm  Cloud9am  Cloud3pm  Temp9am  Temp3pm  RainToday  \\\n",
              "0       1007.7       1007.1       8.0       NaN     16.9     21.8         No   \n",
              "1       1010.6       1007.8       NaN       NaN     17.2     24.3         No   \n",
              "2       1007.6       1008.7       NaN       2.0     21.0     23.2         No   \n",
              "3       1017.6       1012.8       NaN       NaN     18.1     26.5         No   \n",
              "4       1010.8       1006.0       7.0       8.0     17.8     29.7         No   \n",
              "\n",
              "   RainTomorrow  \n",
              "0            No  \n",
              "1            No  \n",
              "2            No  \n",
              "3            No  \n",
              "4            No  \n",
              "\n",
              "[5 rows x 23 columns]"
            ],
            "text/html": [
              "\n",
              "  <div id=\"df-56665734-a7fd-4540-9673-ef394c56ab71\" class=\"colab-df-container\">\n",
              "    <div>\n",
              "<style scoped>\n",
              "    .dataframe tbody tr th:only-of-type {\n",
              "        vertical-align: middle;\n",
              "    }\n",
              "\n",
              "    .dataframe tbody tr th {\n",
              "        vertical-align: top;\n",
              "    }\n",
              "\n",
              "    .dataframe thead th {\n",
              "        text-align: right;\n",
              "    }\n",
              "</style>\n",
              "<table border=\"1\" class=\"dataframe\">\n",
              "  <thead>\n",
              "    <tr style=\"text-align: right;\">\n",
              "      <th></th>\n",
              "      <th>Date</th>\n",
              "      <th>Location</th>\n",
              "      <th>MinTemp</th>\n",
              "      <th>MaxTemp</th>\n",
              "      <th>Rainfall</th>\n",
              "      <th>Evaporation</th>\n",
              "      <th>Sunshine</th>\n",
              "      <th>WindGustDir</th>\n",
              "      <th>WindGustSpeed</th>\n",
              "      <th>WindDir9am</th>\n",
              "      <th>...</th>\n",
              "      <th>Humidity9am</th>\n",
              "      <th>Humidity3pm</th>\n",
              "      <th>Pressure9am</th>\n",
              "      <th>Pressure3pm</th>\n",
              "      <th>Cloud9am</th>\n",
              "      <th>Cloud3pm</th>\n",
              "      <th>Temp9am</th>\n",
              "      <th>Temp3pm</th>\n",
              "      <th>RainToday</th>\n",
              "      <th>RainTomorrow</th>\n",
              "    </tr>\n",
              "  </thead>\n",
              "  <tbody>\n",
              "    <tr>\n",
              "      <th>0</th>\n",
              "      <td>2008-12-01</td>\n",
              "      <td>Albury</td>\n",
              "      <td>13.4</td>\n",
              "      <td>22.9</td>\n",
              "      <td>0.6</td>\n",
              "      <td>NaN</td>\n",
              "      <td>NaN</td>\n",
              "      <td>W</td>\n",
              "      <td>44.0</td>\n",
              "      <td>W</td>\n",
              "      <td>...</td>\n",
              "      <td>71.0</td>\n",
              "      <td>22.0</td>\n",
              "      <td>1007.7</td>\n",
              "      <td>1007.1</td>\n",
              "      <td>8.0</td>\n",
              "      <td>NaN</td>\n",
              "      <td>16.9</td>\n",
              "      <td>21.8</td>\n",
              "      <td>No</td>\n",
              "      <td>No</td>\n",
              "    </tr>\n",
              "    <tr>\n",
              "      <th>1</th>\n",
              "      <td>2008-12-02</td>\n",
              "      <td>Albury</td>\n",
              "      <td>7.4</td>\n",
              "      <td>25.1</td>\n",
              "      <td>0.0</td>\n",
              "      <td>NaN</td>\n",
              "      <td>NaN</td>\n",
              "      <td>WNW</td>\n",
              "      <td>44.0</td>\n",
              "      <td>NNW</td>\n",
              "      <td>...</td>\n",
              "      <td>44.0</td>\n",
              "      <td>25.0</td>\n",
              "      <td>1010.6</td>\n",
              "      <td>1007.8</td>\n",
              "      <td>NaN</td>\n",
              "      <td>NaN</td>\n",
              "      <td>17.2</td>\n",
              "      <td>24.3</td>\n",
              "      <td>No</td>\n",
              "      <td>No</td>\n",
              "    </tr>\n",
              "    <tr>\n",
              "      <th>2</th>\n",
              "      <td>2008-12-03</td>\n",
              "      <td>Albury</td>\n",
              "      <td>12.9</td>\n",
              "      <td>25.7</td>\n",
              "      <td>0.0</td>\n",
              "      <td>NaN</td>\n",
              "      <td>NaN</td>\n",
              "      <td>WSW</td>\n",
              "      <td>46.0</td>\n",
              "      <td>W</td>\n",
              "      <td>...</td>\n",
              "      <td>38.0</td>\n",
              "      <td>30.0</td>\n",
              "      <td>1007.6</td>\n",
              "      <td>1008.7</td>\n",
              "      <td>NaN</td>\n",
              "      <td>2.0</td>\n",
              "      <td>21.0</td>\n",
              "      <td>23.2</td>\n",
              "      <td>No</td>\n",
              "      <td>No</td>\n",
              "    </tr>\n",
              "    <tr>\n",
              "      <th>3</th>\n",
              "      <td>2008-12-04</td>\n",
              "      <td>Albury</td>\n",
              "      <td>9.2</td>\n",
              "      <td>28.0</td>\n",
              "      <td>0.0</td>\n",
              "      <td>NaN</td>\n",
              "      <td>NaN</td>\n",
              "      <td>NE</td>\n",
              "      <td>24.0</td>\n",
              "      <td>SE</td>\n",
              "      <td>...</td>\n",
              "      <td>45.0</td>\n",
              "      <td>16.0</td>\n",
              "      <td>1017.6</td>\n",
              "      <td>1012.8</td>\n",
              "      <td>NaN</td>\n",
              "      <td>NaN</td>\n",
              "      <td>18.1</td>\n",
              "      <td>26.5</td>\n",
              "      <td>No</td>\n",
              "      <td>No</td>\n",
              "    </tr>\n",
              "    <tr>\n",
              "      <th>4</th>\n",
              "      <td>2008-12-05</td>\n",
              "      <td>Albury</td>\n",
              "      <td>17.5</td>\n",
              "      <td>32.3</td>\n",
              "      <td>1.0</td>\n",
              "      <td>NaN</td>\n",
              "      <td>NaN</td>\n",
              "      <td>W</td>\n",
              "      <td>41.0</td>\n",
              "      <td>ENE</td>\n",
              "      <td>...</td>\n",
              "      <td>82.0</td>\n",
              "      <td>33.0</td>\n",
              "      <td>1010.8</td>\n",
              "      <td>1006.0</td>\n",
              "      <td>7.0</td>\n",
              "      <td>8.0</td>\n",
              "      <td>17.8</td>\n",
              "      <td>29.7</td>\n",
              "      <td>No</td>\n",
              "      <td>No</td>\n",
              "    </tr>\n",
              "  </tbody>\n",
              "</table>\n",
              "<p>5 rows × 23 columns</p>\n",
              "</div>\n",
              "    <div class=\"colab-df-buttons\">\n",
              "\n",
              "  <div class=\"colab-df-container\">\n",
              "    <button class=\"colab-df-convert\" onclick=\"convertToInteractive('df-56665734-a7fd-4540-9673-ef394c56ab71')\"\n",
              "            title=\"Convert this dataframe to an interactive table.\"\n",
              "            style=\"display:none;\">\n",
              "\n",
              "  <svg xmlns=\"http://www.w3.org/2000/svg\" height=\"24px\" viewBox=\"0 -960 960 960\">\n",
              "    <path d=\"M120-120v-720h720v720H120Zm60-500h600v-160H180v160Zm220 220h160v-160H400v160Zm0 220h160v-160H400v160ZM180-400h160v-160H180v160Zm440 0h160v-160H620v160ZM180-180h160v-160H180v160Zm440 0h160v-160H620v160Z\"/>\n",
              "  </svg>\n",
              "    </button>\n",
              "\n",
              "  <style>\n",
              "    .colab-df-container {\n",
              "      display:flex;\n",
              "      gap: 12px;\n",
              "    }\n",
              "\n",
              "    .colab-df-convert {\n",
              "      background-color: #E8F0FE;\n",
              "      border: none;\n",
              "      border-radius: 50%;\n",
              "      cursor: pointer;\n",
              "      display: none;\n",
              "      fill: #1967D2;\n",
              "      height: 32px;\n",
              "      padding: 0 0 0 0;\n",
              "      width: 32px;\n",
              "    }\n",
              "\n",
              "    .colab-df-convert:hover {\n",
              "      background-color: #E2EBFA;\n",
              "      box-shadow: 0px 1px 2px rgba(60, 64, 67, 0.3), 0px 1px 3px 1px rgba(60, 64, 67, 0.15);\n",
              "      fill: #174EA6;\n",
              "    }\n",
              "\n",
              "    .colab-df-buttons div {\n",
              "      margin-bottom: 4px;\n",
              "    }\n",
              "\n",
              "    [theme=dark] .colab-df-convert {\n",
              "      background-color: #3B4455;\n",
              "      fill: #D2E3FC;\n",
              "    }\n",
              "\n",
              "    [theme=dark] .colab-df-convert:hover {\n",
              "      background-color: #434B5C;\n",
              "      box-shadow: 0px 1px 3px 1px rgba(0, 0, 0, 0.15);\n",
              "      filter: drop-shadow(0px 1px 2px rgba(0, 0, 0, 0.3));\n",
              "      fill: #FFFFFF;\n",
              "    }\n",
              "  </style>\n",
              "\n",
              "    <script>\n",
              "      const buttonEl =\n",
              "        document.querySelector('#df-56665734-a7fd-4540-9673-ef394c56ab71 button.colab-df-convert');\n",
              "      buttonEl.style.display =\n",
              "        google.colab.kernel.accessAllowed ? 'block' : 'none';\n",
              "\n",
              "      async function convertToInteractive(key) {\n",
              "        const element = document.querySelector('#df-56665734-a7fd-4540-9673-ef394c56ab71');\n",
              "        const dataTable =\n",
              "          await google.colab.kernel.invokeFunction('convertToInteractive',\n",
              "                                                    [key], {});\n",
              "        if (!dataTable) return;\n",
              "\n",
              "        const docLinkHtml = 'Like what you see? Visit the ' +\n",
              "          '<a target=\"_blank\" href=https://colab.research.google.com/notebooks/data_table.ipynb>data table notebook</a>'\n",
              "          + ' to learn more about interactive tables.';\n",
              "        element.innerHTML = '';\n",
              "        dataTable['output_type'] = 'display_data';\n",
              "        await google.colab.output.renderOutput(dataTable, element);\n",
              "        const docLink = document.createElement('div');\n",
              "        docLink.innerHTML = docLinkHtml;\n",
              "        element.appendChild(docLink);\n",
              "      }\n",
              "    </script>\n",
              "  </div>\n",
              "\n",
              "\n",
              "<div id=\"df-79ad2fdb-aa8f-4df8-af2b-cdb132206ba4\">\n",
              "  <button class=\"colab-df-quickchart\" onclick=\"quickchart('df-79ad2fdb-aa8f-4df8-af2b-cdb132206ba4')\"\n",
              "            title=\"Suggest charts\"\n",
              "            style=\"display:none;\">\n",
              "\n",
              "<svg xmlns=\"http://www.w3.org/2000/svg\" height=\"24px\"viewBox=\"0 0 24 24\"\n",
              "     width=\"24px\">\n",
              "    <g>\n",
              "        <path d=\"M19 3H5c-1.1 0-2 .9-2 2v14c0 1.1.9 2 2 2h14c1.1 0 2-.9 2-2V5c0-1.1-.9-2-2-2zM9 17H7v-7h2v7zm4 0h-2V7h2v10zm4 0h-2v-4h2v4z\"/>\n",
              "    </g>\n",
              "</svg>\n",
              "  </button>\n",
              "\n",
              "<style>\n",
              "  .colab-df-quickchart {\n",
              "      --bg-color: #E8F0FE;\n",
              "      --fill-color: #1967D2;\n",
              "      --hover-bg-color: #E2EBFA;\n",
              "      --hover-fill-color: #174EA6;\n",
              "      --disabled-fill-color: #AAA;\n",
              "      --disabled-bg-color: #DDD;\n",
              "  }\n",
              "\n",
              "  [theme=dark] .colab-df-quickchart {\n",
              "      --bg-color: #3B4455;\n",
              "      --fill-color: #D2E3FC;\n",
              "      --hover-bg-color: #434B5C;\n",
              "      --hover-fill-color: #FFFFFF;\n",
              "      --disabled-bg-color: #3B4455;\n",
              "      --disabled-fill-color: #666;\n",
              "  }\n",
              "\n",
              "  .colab-df-quickchart {\n",
              "    background-color: var(--bg-color);\n",
              "    border: none;\n",
              "    border-radius: 50%;\n",
              "    cursor: pointer;\n",
              "    display: none;\n",
              "    fill: var(--fill-color);\n",
              "    height: 32px;\n",
              "    padding: 0;\n",
              "    width: 32px;\n",
              "  }\n",
              "\n",
              "  .colab-df-quickchart:hover {\n",
              "    background-color: var(--hover-bg-color);\n",
              "    box-shadow: 0 1px 2px rgba(60, 64, 67, 0.3), 0 1px 3px 1px rgba(60, 64, 67, 0.15);\n",
              "    fill: var(--button-hover-fill-color);\n",
              "  }\n",
              "\n",
              "  .colab-df-quickchart-complete:disabled,\n",
              "  .colab-df-quickchart-complete:disabled:hover {\n",
              "    background-color: var(--disabled-bg-color);\n",
              "    fill: var(--disabled-fill-color);\n",
              "    box-shadow: none;\n",
              "  }\n",
              "\n",
              "  .colab-df-spinner {\n",
              "    border: 2px solid var(--fill-color);\n",
              "    border-color: transparent;\n",
              "    border-bottom-color: var(--fill-color);\n",
              "    animation:\n",
              "      spin 1s steps(1) infinite;\n",
              "  }\n",
              "\n",
              "  @keyframes spin {\n",
              "    0% {\n",
              "      border-color: transparent;\n",
              "      border-bottom-color: var(--fill-color);\n",
              "      border-left-color: var(--fill-color);\n",
              "    }\n",
              "    20% {\n",
              "      border-color: transparent;\n",
              "      border-left-color: var(--fill-color);\n",
              "      border-top-color: var(--fill-color);\n",
              "    }\n",
              "    30% {\n",
              "      border-color: transparent;\n",
              "      border-left-color: var(--fill-color);\n",
              "      border-top-color: var(--fill-color);\n",
              "      border-right-color: var(--fill-color);\n",
              "    }\n",
              "    40% {\n",
              "      border-color: transparent;\n",
              "      border-right-color: var(--fill-color);\n",
              "      border-top-color: var(--fill-color);\n",
              "    }\n",
              "    60% {\n",
              "      border-color: transparent;\n",
              "      border-right-color: var(--fill-color);\n",
              "    }\n",
              "    80% {\n",
              "      border-color: transparent;\n",
              "      border-right-color: var(--fill-color);\n",
              "      border-bottom-color: var(--fill-color);\n",
              "    }\n",
              "    90% {\n",
              "      border-color: transparent;\n",
              "      border-bottom-color: var(--fill-color);\n",
              "    }\n",
              "  }\n",
              "</style>\n",
              "\n",
              "  <script>\n",
              "    async function quickchart(key) {\n",
              "      const quickchartButtonEl =\n",
              "        document.querySelector('#' + key + ' button');\n",
              "      quickchartButtonEl.disabled = true;  // To prevent multiple clicks.\n",
              "      quickchartButtonEl.classList.add('colab-df-spinner');\n",
              "      try {\n",
              "        const charts = await google.colab.kernel.invokeFunction(\n",
              "            'suggestCharts', [key], {});\n",
              "      } catch (error) {\n",
              "        console.error('Error during call to suggestCharts:', error);\n",
              "      }\n",
              "      quickchartButtonEl.classList.remove('colab-df-spinner');\n",
              "      quickchartButtonEl.classList.add('colab-df-quickchart-complete');\n",
              "    }\n",
              "    (() => {\n",
              "      let quickchartButtonEl =\n",
              "        document.querySelector('#df-79ad2fdb-aa8f-4df8-af2b-cdb132206ba4 button');\n",
              "      quickchartButtonEl.style.display =\n",
              "        google.colab.kernel.accessAllowed ? 'block' : 'none';\n",
              "    })();\n",
              "  </script>\n",
              "</div>\n",
              "    </div>\n",
              "  </div>\n"
            ],
            "application/vnd.google.colaboratory.intrinsic+json": {
              "type": "dataframe",
              "variable_name": "rain"
            }
          },
          "metadata": {},
          "execution_count": 4
        }
      ],
      "source": [
        "7#first 5 rows of the DataFrame\n",
        "rain.head()"
      ]
    },
    {
      "cell_type": "code",
      "execution_count": null,
      "metadata": {
        "id": "sVBUoJVC6hzF",
        "colab": {
          "base_uri": "https://localhost:8080/"
        },
        "outputId": "fceecc7b-a47c-4ec0-dc2a-59d35bfd9af5"
      },
      "outputs": [
        {
          "output_type": "execute_result",
          "data": {
            "text/plain": [
              "(145460, 23)"
            ]
          },
          "metadata": {},
          "execution_count": 5
        }
      ],
      "source": [
        "# returns a tuple representing the dimensions of the DataFrame\n",
        "rain.shape"
      ]
    },
    {
      "cell_type": "code",
      "execution_count": null,
      "metadata": {
        "id": "lTYxOv4p654y",
        "colab": {
          "base_uri": "https://localhost:8080/"
        },
        "outputId": "3e8a9b3e-7bec-4b5c-8c97-c4d38f577fb1"
      },
      "outputs": [
        {
          "output_type": "stream",
          "name": "stdout",
          "text": [
            "<class 'pandas.core.frame.DataFrame'>\n",
            "RangeIndex: 145460 entries, 0 to 145459\n",
            "Data columns (total 23 columns):\n",
            " #   Column         Non-Null Count   Dtype  \n",
            "---  ------         --------------   -----  \n",
            " 0   Date           145460 non-null  object \n",
            " 1   Location       145460 non-null  object \n",
            " 2   MinTemp        143975 non-null  float64\n",
            " 3   MaxTemp        144199 non-null  float64\n",
            " 4   Rainfall       142199 non-null  float64\n",
            " 5   Evaporation    82670 non-null   float64\n",
            " 6   Sunshine       75625 non-null   float64\n",
            " 7   WindGustDir    135134 non-null  object \n",
            " 8   WindGustSpeed  135197 non-null  float64\n",
            " 9   WindDir9am     134894 non-null  object \n",
            " 10  WindDir3pm     141232 non-null  object \n",
            " 11  WindSpeed9am   143693 non-null  float64\n",
            " 12  WindSpeed3pm   142398 non-null  float64\n",
            " 13  Humidity9am    142806 non-null  float64\n",
            " 14  Humidity3pm    140953 non-null  float64\n",
            " 15  Pressure9am    130395 non-null  float64\n",
            " 16  Pressure3pm    130432 non-null  float64\n",
            " 17  Cloud9am       89572 non-null   float64\n",
            " 18  Cloud3pm       86102 non-null   float64\n",
            " 19  Temp9am        143693 non-null  float64\n",
            " 20  Temp3pm        141851 non-null  float64\n",
            " 21  RainToday      142199 non-null  object \n",
            " 22  RainTomorrow   142193 non-null  object \n",
            "dtypes: float64(16), object(7)\n",
            "memory usage: 25.5+ MB\n"
          ]
        }
      ],
      "source": [
        "rain.info()"
      ]
    },
    {
      "cell_type": "code",
      "execution_count": null,
      "metadata": {
        "id": "_1Pg4s7agHNG",
        "colab": {
          "base_uri": "https://localhost:8080/",
          "height": 300
        },
        "outputId": "a3ef193f-2995-4a17-a5e2-ab7d2dcd7812"
      },
      "outputs": [
        {
          "output_type": "execute_result",
          "data": {
            "text/plain": [
              "             MinTemp        MaxTemp       Rainfall   Evaporation  \\\n",
              "count  143975.000000  144199.000000  142199.000000  82670.000000   \n",
              "mean       12.194034      23.221348       2.360918      5.468232   \n",
              "std         6.398495       7.119049       8.478060      4.193704   \n",
              "min        -8.500000      -4.800000       0.000000      0.000000   \n",
              "25%         7.600000      17.900000       0.000000      2.600000   \n",
              "50%        12.000000      22.600000       0.000000      4.800000   \n",
              "75%        16.900000      28.200000       0.800000      7.400000   \n",
              "max        33.900000      48.100000     371.000000    145.000000   \n",
              "\n",
              "           Sunshine  WindGustSpeed   WindSpeed9am   WindSpeed3pm  \\\n",
              "count  75625.000000  135197.000000  143693.000000  142398.000000   \n",
              "mean       7.611178      40.035230      14.043426      18.662657   \n",
              "std        3.785483      13.607062       8.915375       8.809800   \n",
              "min        0.000000       6.000000       0.000000       0.000000   \n",
              "25%        4.800000      31.000000       7.000000      13.000000   \n",
              "50%        8.400000      39.000000      13.000000      19.000000   \n",
              "75%       10.600000      48.000000      19.000000      24.000000   \n",
              "max       14.500000     135.000000     130.000000      87.000000   \n",
              "\n",
              "         Humidity9am    Humidity3pm   Pressure9am    Pressure3pm  \\\n",
              "count  142806.000000  140953.000000  130395.00000  130432.000000   \n",
              "mean       68.880831      51.539116    1017.64994    1015.255889   \n",
              "std        19.029164      20.795902       7.10653       7.037414   \n",
              "min         0.000000       0.000000     980.50000     977.100000   \n",
              "25%        57.000000      37.000000    1012.90000    1010.400000   \n",
              "50%        70.000000      52.000000    1017.60000    1015.200000   \n",
              "75%        83.000000      66.000000    1022.40000    1020.000000   \n",
              "max       100.000000     100.000000    1041.00000    1039.600000   \n",
              "\n",
              "           Cloud9am      Cloud3pm        Temp9am       Temp3pm  \n",
              "count  89572.000000  86102.000000  143693.000000  141851.00000  \n",
              "mean       4.447461      4.509930      16.990631      21.68339  \n",
              "std        2.887159      2.720357       6.488753       6.93665  \n",
              "min        0.000000      0.000000      -7.200000      -5.40000  \n",
              "25%        1.000000      2.000000      12.300000      16.60000  \n",
              "50%        5.000000      5.000000      16.700000      21.10000  \n",
              "75%        7.000000      7.000000      21.600000      26.40000  \n",
              "max        9.000000      9.000000      40.200000      46.70000  "
            ],
            "text/html": [
              "\n",
              "  <div id=\"df-ddc8bef9-ac9f-43be-bc09-2a4b272e56d9\" class=\"colab-df-container\">\n",
              "    <div>\n",
              "<style scoped>\n",
              "    .dataframe tbody tr th:only-of-type {\n",
              "        vertical-align: middle;\n",
              "    }\n",
              "\n",
              "    .dataframe tbody tr th {\n",
              "        vertical-align: top;\n",
              "    }\n",
              "\n",
              "    .dataframe thead th {\n",
              "        text-align: right;\n",
              "    }\n",
              "</style>\n",
              "<table border=\"1\" class=\"dataframe\">\n",
              "  <thead>\n",
              "    <tr style=\"text-align: right;\">\n",
              "      <th></th>\n",
              "      <th>MinTemp</th>\n",
              "      <th>MaxTemp</th>\n",
              "      <th>Rainfall</th>\n",
              "      <th>Evaporation</th>\n",
              "      <th>Sunshine</th>\n",
              "      <th>WindGustSpeed</th>\n",
              "      <th>WindSpeed9am</th>\n",
              "      <th>WindSpeed3pm</th>\n",
              "      <th>Humidity9am</th>\n",
              "      <th>Humidity3pm</th>\n",
              "      <th>Pressure9am</th>\n",
              "      <th>Pressure3pm</th>\n",
              "      <th>Cloud9am</th>\n",
              "      <th>Cloud3pm</th>\n",
              "      <th>Temp9am</th>\n",
              "      <th>Temp3pm</th>\n",
              "    </tr>\n",
              "  </thead>\n",
              "  <tbody>\n",
              "    <tr>\n",
              "      <th>count</th>\n",
              "      <td>143975.000000</td>\n",
              "      <td>144199.000000</td>\n",
              "      <td>142199.000000</td>\n",
              "      <td>82670.000000</td>\n",
              "      <td>75625.000000</td>\n",
              "      <td>135197.000000</td>\n",
              "      <td>143693.000000</td>\n",
              "      <td>142398.000000</td>\n",
              "      <td>142806.000000</td>\n",
              "      <td>140953.000000</td>\n",
              "      <td>130395.00000</td>\n",
              "      <td>130432.000000</td>\n",
              "      <td>89572.000000</td>\n",
              "      <td>86102.000000</td>\n",
              "      <td>143693.000000</td>\n",
              "      <td>141851.00000</td>\n",
              "    </tr>\n",
              "    <tr>\n",
              "      <th>mean</th>\n",
              "      <td>12.194034</td>\n",
              "      <td>23.221348</td>\n",
              "      <td>2.360918</td>\n",
              "      <td>5.468232</td>\n",
              "      <td>7.611178</td>\n",
              "      <td>40.035230</td>\n",
              "      <td>14.043426</td>\n",
              "      <td>18.662657</td>\n",
              "      <td>68.880831</td>\n",
              "      <td>51.539116</td>\n",
              "      <td>1017.64994</td>\n",
              "      <td>1015.255889</td>\n",
              "      <td>4.447461</td>\n",
              "      <td>4.509930</td>\n",
              "      <td>16.990631</td>\n",
              "      <td>21.68339</td>\n",
              "    </tr>\n",
              "    <tr>\n",
              "      <th>std</th>\n",
              "      <td>6.398495</td>\n",
              "      <td>7.119049</td>\n",
              "      <td>8.478060</td>\n",
              "      <td>4.193704</td>\n",
              "      <td>3.785483</td>\n",
              "      <td>13.607062</td>\n",
              "      <td>8.915375</td>\n",
              "      <td>8.809800</td>\n",
              "      <td>19.029164</td>\n",
              "      <td>20.795902</td>\n",
              "      <td>7.10653</td>\n",
              "      <td>7.037414</td>\n",
              "      <td>2.887159</td>\n",
              "      <td>2.720357</td>\n",
              "      <td>6.488753</td>\n",
              "      <td>6.93665</td>\n",
              "    </tr>\n",
              "    <tr>\n",
              "      <th>min</th>\n",
              "      <td>-8.500000</td>\n",
              "      <td>-4.800000</td>\n",
              "      <td>0.000000</td>\n",
              "      <td>0.000000</td>\n",
              "      <td>0.000000</td>\n",
              "      <td>6.000000</td>\n",
              "      <td>0.000000</td>\n",
              "      <td>0.000000</td>\n",
              "      <td>0.000000</td>\n",
              "      <td>0.000000</td>\n",
              "      <td>980.50000</td>\n",
              "      <td>977.100000</td>\n",
              "      <td>0.000000</td>\n",
              "      <td>0.000000</td>\n",
              "      <td>-7.200000</td>\n",
              "      <td>-5.40000</td>\n",
              "    </tr>\n",
              "    <tr>\n",
              "      <th>25%</th>\n",
              "      <td>7.600000</td>\n",
              "      <td>17.900000</td>\n",
              "      <td>0.000000</td>\n",
              "      <td>2.600000</td>\n",
              "      <td>4.800000</td>\n",
              "      <td>31.000000</td>\n",
              "      <td>7.000000</td>\n",
              "      <td>13.000000</td>\n",
              "      <td>57.000000</td>\n",
              "      <td>37.000000</td>\n",
              "      <td>1012.90000</td>\n",
              "      <td>1010.400000</td>\n",
              "      <td>1.000000</td>\n",
              "      <td>2.000000</td>\n",
              "      <td>12.300000</td>\n",
              "      <td>16.60000</td>\n",
              "    </tr>\n",
              "    <tr>\n",
              "      <th>50%</th>\n",
              "      <td>12.000000</td>\n",
              "      <td>22.600000</td>\n",
              "      <td>0.000000</td>\n",
              "      <td>4.800000</td>\n",
              "      <td>8.400000</td>\n",
              "      <td>39.000000</td>\n",
              "      <td>13.000000</td>\n",
              "      <td>19.000000</td>\n",
              "      <td>70.000000</td>\n",
              "      <td>52.000000</td>\n",
              "      <td>1017.60000</td>\n",
              "      <td>1015.200000</td>\n",
              "      <td>5.000000</td>\n",
              "      <td>5.000000</td>\n",
              "      <td>16.700000</td>\n",
              "      <td>21.10000</td>\n",
              "    </tr>\n",
              "    <tr>\n",
              "      <th>75%</th>\n",
              "      <td>16.900000</td>\n",
              "      <td>28.200000</td>\n",
              "      <td>0.800000</td>\n",
              "      <td>7.400000</td>\n",
              "      <td>10.600000</td>\n",
              "      <td>48.000000</td>\n",
              "      <td>19.000000</td>\n",
              "      <td>24.000000</td>\n",
              "      <td>83.000000</td>\n",
              "      <td>66.000000</td>\n",
              "      <td>1022.40000</td>\n",
              "      <td>1020.000000</td>\n",
              "      <td>7.000000</td>\n",
              "      <td>7.000000</td>\n",
              "      <td>21.600000</td>\n",
              "      <td>26.40000</td>\n",
              "    </tr>\n",
              "    <tr>\n",
              "      <th>max</th>\n",
              "      <td>33.900000</td>\n",
              "      <td>48.100000</td>\n",
              "      <td>371.000000</td>\n",
              "      <td>145.000000</td>\n",
              "      <td>14.500000</td>\n",
              "      <td>135.000000</td>\n",
              "      <td>130.000000</td>\n",
              "      <td>87.000000</td>\n",
              "      <td>100.000000</td>\n",
              "      <td>100.000000</td>\n",
              "      <td>1041.00000</td>\n",
              "      <td>1039.600000</td>\n",
              "      <td>9.000000</td>\n",
              "      <td>9.000000</td>\n",
              "      <td>40.200000</td>\n",
              "      <td>46.70000</td>\n",
              "    </tr>\n",
              "  </tbody>\n",
              "</table>\n",
              "</div>\n",
              "    <div class=\"colab-df-buttons\">\n",
              "\n",
              "  <div class=\"colab-df-container\">\n",
              "    <button class=\"colab-df-convert\" onclick=\"convertToInteractive('df-ddc8bef9-ac9f-43be-bc09-2a4b272e56d9')\"\n",
              "            title=\"Convert this dataframe to an interactive table.\"\n",
              "            style=\"display:none;\">\n",
              "\n",
              "  <svg xmlns=\"http://www.w3.org/2000/svg\" height=\"24px\" viewBox=\"0 -960 960 960\">\n",
              "    <path d=\"M120-120v-720h720v720H120Zm60-500h600v-160H180v160Zm220 220h160v-160H400v160Zm0 220h160v-160H400v160ZM180-400h160v-160H180v160Zm440 0h160v-160H620v160ZM180-180h160v-160H180v160Zm440 0h160v-160H620v160Z\"/>\n",
              "  </svg>\n",
              "    </button>\n",
              "\n",
              "  <style>\n",
              "    .colab-df-container {\n",
              "      display:flex;\n",
              "      gap: 12px;\n",
              "    }\n",
              "\n",
              "    .colab-df-convert {\n",
              "      background-color: #E8F0FE;\n",
              "      border: none;\n",
              "      border-radius: 50%;\n",
              "      cursor: pointer;\n",
              "      display: none;\n",
              "      fill: #1967D2;\n",
              "      height: 32px;\n",
              "      padding: 0 0 0 0;\n",
              "      width: 32px;\n",
              "    }\n",
              "\n",
              "    .colab-df-convert:hover {\n",
              "      background-color: #E2EBFA;\n",
              "      box-shadow: 0px 1px 2px rgba(60, 64, 67, 0.3), 0px 1px 3px 1px rgba(60, 64, 67, 0.15);\n",
              "      fill: #174EA6;\n",
              "    }\n",
              "\n",
              "    .colab-df-buttons div {\n",
              "      margin-bottom: 4px;\n",
              "    }\n",
              "\n",
              "    [theme=dark] .colab-df-convert {\n",
              "      background-color: #3B4455;\n",
              "      fill: #D2E3FC;\n",
              "    }\n",
              "\n",
              "    [theme=dark] .colab-df-convert:hover {\n",
              "      background-color: #434B5C;\n",
              "      box-shadow: 0px 1px 3px 1px rgba(0, 0, 0, 0.15);\n",
              "      filter: drop-shadow(0px 1px 2px rgba(0, 0, 0, 0.3));\n",
              "      fill: #FFFFFF;\n",
              "    }\n",
              "  </style>\n",
              "\n",
              "    <script>\n",
              "      const buttonEl =\n",
              "        document.querySelector('#df-ddc8bef9-ac9f-43be-bc09-2a4b272e56d9 button.colab-df-convert');\n",
              "      buttonEl.style.display =\n",
              "        google.colab.kernel.accessAllowed ? 'block' : 'none';\n",
              "\n",
              "      async function convertToInteractive(key) {\n",
              "        const element = document.querySelector('#df-ddc8bef9-ac9f-43be-bc09-2a4b272e56d9');\n",
              "        const dataTable =\n",
              "          await google.colab.kernel.invokeFunction('convertToInteractive',\n",
              "                                                    [key], {});\n",
              "        if (!dataTable) return;\n",
              "\n",
              "        const docLinkHtml = 'Like what you see? Visit the ' +\n",
              "          '<a target=\"_blank\" href=https://colab.research.google.com/notebooks/data_table.ipynb>data table notebook</a>'\n",
              "          + ' to learn more about interactive tables.';\n",
              "        element.innerHTML = '';\n",
              "        dataTable['output_type'] = 'display_data';\n",
              "        await google.colab.output.renderOutput(dataTable, element);\n",
              "        const docLink = document.createElement('div');\n",
              "        docLink.innerHTML = docLinkHtml;\n",
              "        element.appendChild(docLink);\n",
              "      }\n",
              "    </script>\n",
              "  </div>\n",
              "\n",
              "\n",
              "<div id=\"df-5d71e258-1e9d-4c7c-9e0e-f0d5904b29e0\">\n",
              "  <button class=\"colab-df-quickchart\" onclick=\"quickchart('df-5d71e258-1e9d-4c7c-9e0e-f0d5904b29e0')\"\n",
              "            title=\"Suggest charts\"\n",
              "            style=\"display:none;\">\n",
              "\n",
              "<svg xmlns=\"http://www.w3.org/2000/svg\" height=\"24px\"viewBox=\"0 0 24 24\"\n",
              "     width=\"24px\">\n",
              "    <g>\n",
              "        <path d=\"M19 3H5c-1.1 0-2 .9-2 2v14c0 1.1.9 2 2 2h14c1.1 0 2-.9 2-2V5c0-1.1-.9-2-2-2zM9 17H7v-7h2v7zm4 0h-2V7h2v10zm4 0h-2v-4h2v4z\"/>\n",
              "    </g>\n",
              "</svg>\n",
              "  </button>\n",
              "\n",
              "<style>\n",
              "  .colab-df-quickchart {\n",
              "      --bg-color: #E8F0FE;\n",
              "      --fill-color: #1967D2;\n",
              "      --hover-bg-color: #E2EBFA;\n",
              "      --hover-fill-color: #174EA6;\n",
              "      --disabled-fill-color: #AAA;\n",
              "      --disabled-bg-color: #DDD;\n",
              "  }\n",
              "\n",
              "  [theme=dark] .colab-df-quickchart {\n",
              "      --bg-color: #3B4455;\n",
              "      --fill-color: #D2E3FC;\n",
              "      --hover-bg-color: #434B5C;\n",
              "      --hover-fill-color: #FFFFFF;\n",
              "      --disabled-bg-color: #3B4455;\n",
              "      --disabled-fill-color: #666;\n",
              "  }\n",
              "\n",
              "  .colab-df-quickchart {\n",
              "    background-color: var(--bg-color);\n",
              "    border: none;\n",
              "    border-radius: 50%;\n",
              "    cursor: pointer;\n",
              "    display: none;\n",
              "    fill: var(--fill-color);\n",
              "    height: 32px;\n",
              "    padding: 0;\n",
              "    width: 32px;\n",
              "  }\n",
              "\n",
              "  .colab-df-quickchart:hover {\n",
              "    background-color: var(--hover-bg-color);\n",
              "    box-shadow: 0 1px 2px rgba(60, 64, 67, 0.3), 0 1px 3px 1px rgba(60, 64, 67, 0.15);\n",
              "    fill: var(--button-hover-fill-color);\n",
              "  }\n",
              "\n",
              "  .colab-df-quickchart-complete:disabled,\n",
              "  .colab-df-quickchart-complete:disabled:hover {\n",
              "    background-color: var(--disabled-bg-color);\n",
              "    fill: var(--disabled-fill-color);\n",
              "    box-shadow: none;\n",
              "  }\n",
              "\n",
              "  .colab-df-spinner {\n",
              "    border: 2px solid var(--fill-color);\n",
              "    border-color: transparent;\n",
              "    border-bottom-color: var(--fill-color);\n",
              "    animation:\n",
              "      spin 1s steps(1) infinite;\n",
              "  }\n",
              "\n",
              "  @keyframes spin {\n",
              "    0% {\n",
              "      border-color: transparent;\n",
              "      border-bottom-color: var(--fill-color);\n",
              "      border-left-color: var(--fill-color);\n",
              "    }\n",
              "    20% {\n",
              "      border-color: transparent;\n",
              "      border-left-color: var(--fill-color);\n",
              "      border-top-color: var(--fill-color);\n",
              "    }\n",
              "    30% {\n",
              "      border-color: transparent;\n",
              "      border-left-color: var(--fill-color);\n",
              "      border-top-color: var(--fill-color);\n",
              "      border-right-color: var(--fill-color);\n",
              "    }\n",
              "    40% {\n",
              "      border-color: transparent;\n",
              "      border-right-color: var(--fill-color);\n",
              "      border-top-color: var(--fill-color);\n",
              "    }\n",
              "    60% {\n",
              "      border-color: transparent;\n",
              "      border-right-color: var(--fill-color);\n",
              "    }\n",
              "    80% {\n",
              "      border-color: transparent;\n",
              "      border-right-color: var(--fill-color);\n",
              "      border-bottom-color: var(--fill-color);\n",
              "    }\n",
              "    90% {\n",
              "      border-color: transparent;\n",
              "      border-bottom-color: var(--fill-color);\n",
              "    }\n",
              "  }\n",
              "</style>\n",
              "\n",
              "  <script>\n",
              "    async function quickchart(key) {\n",
              "      const quickchartButtonEl =\n",
              "        document.querySelector('#' + key + ' button');\n",
              "      quickchartButtonEl.disabled = true;  // To prevent multiple clicks.\n",
              "      quickchartButtonEl.classList.add('colab-df-spinner');\n",
              "      try {\n",
              "        const charts = await google.colab.kernel.invokeFunction(\n",
              "            'suggestCharts', [key], {});\n",
              "      } catch (error) {\n",
              "        console.error('Error during call to suggestCharts:', error);\n",
              "      }\n",
              "      quickchartButtonEl.classList.remove('colab-df-spinner');\n",
              "      quickchartButtonEl.classList.add('colab-df-quickchart-complete');\n",
              "    }\n",
              "    (() => {\n",
              "      let quickchartButtonEl =\n",
              "        document.querySelector('#df-5d71e258-1e9d-4c7c-9e0e-f0d5904b29e0 button');\n",
              "      quickchartButtonEl.style.display =\n",
              "        google.colab.kernel.accessAllowed ? 'block' : 'none';\n",
              "    })();\n",
              "  </script>\n",
              "</div>\n",
              "    </div>\n",
              "  </div>\n"
            ],
            "application/vnd.google.colaboratory.intrinsic+json": {
              "type": "dataframe",
              "summary": "{\n  \"name\": \"rain\",\n  \"rows\": 8,\n  \"fields\": [\n    {\n      \"column\": \"MinTemp\",\n      \"properties\": {\n        \"dtype\": \"number\",\n        \"std\": 50898.7852892957,\n        \"min\": -8.5,\n        \"max\": 143975.0,\n        \"num_unique_values\": 8,\n        \"samples\": [\n          12.19403438096892,\n          12.0,\n          143975.0\n        ],\n        \"semantic_type\": \"\",\n        \"description\": \"\"\n      }\n    },\n    {\n      \"column\": \"MaxTemp\",\n      \"properties\": {\n        \"dtype\": \"number\",\n        \"std\": 50974.85841852006,\n        \"min\": -4.8,\n        \"max\": 144199.0,\n        \"num_unique_values\": 8,\n        \"samples\": [\n          23.22134827564685,\n          22.6,\n          144199.0\n        ],\n        \"semantic_type\": \"\",\n        \"description\": \"\"\n      }\n    },\n    {\n      \"column\": \"Rainfall\",\n      \"properties\": {\n        \"dtype\": \"number\",\n        \"std\": 50255.77841458184,\n        \"min\": 0.0,\n        \"max\": 142199.0,\n        \"num_unique_values\": 6,\n        \"samples\": [\n          142199.0,\n          2.3609181499166656,\n          371.0\n        ],\n        \"semantic_type\": \"\",\n        \"description\": \"\"\n      }\n    },\n    {\n      \"column\": \"Evaporation\",\n      \"properties\": {\n        \"dtype\": \"number\",\n        \"std\": 29219.74137053307,\n        \"min\": 0.0,\n        \"max\": 82670.0,\n        \"num_unique_values\": 8,\n        \"samples\": [\n          5.468231522922462,\n          4.8,\n          82670.0\n        ],\n        \"semantic_type\": \"\",\n        \"description\": \"\"\n      }\n    },\n    {\n      \"column\": \"Sunshine\",\n      \"properties\": {\n        \"dtype\": \"number\",\n        \"std\": 26734.965465626912,\n        \"min\": 0.0,\n        \"max\": 75625.0,\n        \"num_unique_values\": 8,\n        \"samples\": [\n          7.6111775206611565,\n          8.4,\n          75625.0\n        ],\n        \"semantic_type\": \"\",\n        \"description\": \"\"\n      }\n    },\n    {\n      \"column\": \"WindGustSpeed\",\n      \"properties\": {\n        \"dtype\": \"number\",\n        \"std\": 47783.583178590714,\n        \"min\": 6.0,\n        \"max\": 135197.0,\n        \"num_unique_values\": 8,\n        \"samples\": [\n          40.03523007167319,\n          39.0,\n          135197.0\n        ],\n        \"semantic_type\": \"\",\n        \"description\": \"\"\n      }\n    },\n    {\n      \"column\": \"WindSpeed9am\",\n      \"properties\": {\n        \"dtype\": \"number\",\n        \"std\": 50793.46953742816,\n        \"min\": 0.0,\n        \"max\": 143693.0,\n        \"num_unique_values\": 8,\n        \"samples\": [\n          14.043425914971502,\n          13.0,\n          143693.0\n        ],\n        \"semantic_type\": \"\",\n        \"description\": \"\"\n      }\n    },\n    {\n      \"column\": \"WindSpeed3pm\",\n      \"properties\": {\n        \"dtype\": \"number\",\n        \"std\": 50336.69257761629,\n        \"min\": 0.0,\n        \"max\": 142398.0,\n        \"num_unique_values\": 8,\n        \"samples\": [\n          18.662656778887342,\n          19.0,\n          142398.0\n        ],\n        \"semantic_type\": \"\",\n        \"description\": \"\"\n      }\n    },\n    {\n      \"column\": \"Humidity9am\",\n      \"properties\": {\n        \"dtype\": \"number\",\n        \"std\": 50469.45865841999,\n        \"min\": 0.0,\n        \"max\": 142806.0,\n        \"num_unique_values\": 8,\n        \"samples\": [\n          68.88083133761887,\n          70.0,\n          142806.0\n        ],\n        \"semantic_type\": \"\",\n        \"description\": \"\"\n      }\n    },\n    {\n      \"column\": \"Humidity3pm\",\n      \"properties\": {\n        \"dtype\": \"number\",\n        \"std\": 49817.88705434561,\n        \"min\": 0.0,\n        \"max\": 140953.0,\n        \"num_unique_values\": 8,\n        \"samples\": [\n          51.5391158755046,\n          52.0,\n          140953.0\n        ],\n        \"semantic_type\": \"\",\n        \"description\": \"\"\n      }\n    },\n    {\n      \"column\": \"Pressure9am\",\n      \"properties\": {\n        \"dtype\": \"number\",\n        \"std\": 45794.90252711026,\n        \"min\": 7.106530287523087,\n        \"max\": 130395.0,\n        \"num_unique_values\": 8,\n        \"samples\": [\n          1017.6499397983052,\n          1017.6,\n          130395.0\n        ],\n        \"semantic_type\": \"\",\n        \"description\": \"\"\n      }\n    },\n    {\n      \"column\": \"Pressure3pm\",\n      \"properties\": {\n        \"dtype\": \"number\",\n        \"std\": 45808.7130186032,\n        \"min\": 7.037413808167775,\n        \"max\": 130432.0,\n        \"num_unique_values\": 8,\n        \"samples\": [\n          1015.2558888309618,\n          1015.2,\n          130432.0\n        ],\n        \"semantic_type\": \"\",\n        \"description\": \"\"\n      }\n    },\n    {\n      \"column\": \"Cloud9am\",\n      \"properties\": {\n        \"dtype\": \"number\",\n        \"std\": 31667.00281817111,\n        \"min\": 0.0,\n        \"max\": 89572.0,\n        \"num_unique_values\": 8,\n        \"samples\": [\n          4.4474612602152455,\n          5.0,\n          89572.0\n        ],\n        \"semantic_type\": \"\",\n        \"description\": \"\"\n      }\n    },\n    {\n      \"column\": \"Cloud3pm\",\n      \"properties\": {\n        \"dtype\": \"number\",\n        \"std\": 30440.12730861951,\n        \"min\": 0.0,\n        \"max\": 86102.0,\n        \"num_unique_values\": 8,\n        \"samples\": [\n          4.509930082924903,\n          5.0,\n          86102.0\n        ],\n        \"semantic_type\": \"\",\n        \"description\": \"\"\n      }\n    },\n    {\n      \"column\": \"Temp9am\",\n      \"properties\": {\n        \"dtype\": \"number\",\n        \"std\": 50797.74079696553,\n        \"min\": -7.2,\n        \"max\": 143693.0,\n        \"num_unique_values\": 8,\n        \"samples\": [\n          16.990631415587398,\n          16.7,\n          143693.0\n        ],\n        \"semantic_type\": \"\",\n        \"description\": \"\"\n      }\n    },\n    {\n      \"column\": \"Temp3pm\",\n      \"properties\": {\n        \"dtype\": \"number\",\n        \"std\": 50145.135225618586,\n        \"min\": -5.4,\n        \"max\": 141851.0,\n        \"num_unique_values\": 8,\n        \"samples\": [\n          21.68339031800974,\n          21.1,\n          141851.0\n        ],\n        \"semantic_type\": \"\",\n        \"description\": \"\"\n      }\n    }\n  ]\n}"
            }
          },
          "metadata": {},
          "execution_count": 7
        }
      ],
      "source": [
        "#if the 25th percentile (25%) for a dataset of rainfall measurements is 50 mm, it means that 25% of the time, the rainfall was 50 mm or less.\n",
        "rain.describe(exclude=[object])"
      ]
    },
    {
      "cell_type": "code",
      "execution_count": null,
      "metadata": {
        "id": "O16X_G-qeEM8",
        "colab": {
          "base_uri": "https://localhost:8080/",
          "height": 175
        },
        "outputId": "877f1ff1-395b-45ed-9760-1d9ccb873693"
      },
      "outputs": [
        {
          "output_type": "execute_result",
          "data": {
            "text/plain": [
              "              Date  Location WindGustDir WindDir9am WindDir3pm RainToday  \\\n",
              "count       145460    145460      135134     134894     141232    142199   \n",
              "unique        3436        49          16         16         16         2   \n",
              "top     2013-11-12  Canberra           W          N         SE        No   \n",
              "freq            49      3436        9915      11758      10838    110319   \n",
              "\n",
              "       RainTomorrow  \n",
              "count        142193  \n",
              "unique            2  \n",
              "top              No  \n",
              "freq         110316  "
            ],
            "text/html": [
              "\n",
              "  <div id=\"df-8629840d-83a8-4526-8d20-1a2f4199875a\" class=\"colab-df-container\">\n",
              "    <div>\n",
              "<style scoped>\n",
              "    .dataframe tbody tr th:only-of-type {\n",
              "        vertical-align: middle;\n",
              "    }\n",
              "\n",
              "    .dataframe tbody tr th {\n",
              "        vertical-align: top;\n",
              "    }\n",
              "\n",
              "    .dataframe thead th {\n",
              "        text-align: right;\n",
              "    }\n",
              "</style>\n",
              "<table border=\"1\" class=\"dataframe\">\n",
              "  <thead>\n",
              "    <tr style=\"text-align: right;\">\n",
              "      <th></th>\n",
              "      <th>Date</th>\n",
              "      <th>Location</th>\n",
              "      <th>WindGustDir</th>\n",
              "      <th>WindDir9am</th>\n",
              "      <th>WindDir3pm</th>\n",
              "      <th>RainToday</th>\n",
              "      <th>RainTomorrow</th>\n",
              "    </tr>\n",
              "  </thead>\n",
              "  <tbody>\n",
              "    <tr>\n",
              "      <th>count</th>\n",
              "      <td>145460</td>\n",
              "      <td>145460</td>\n",
              "      <td>135134</td>\n",
              "      <td>134894</td>\n",
              "      <td>141232</td>\n",
              "      <td>142199</td>\n",
              "      <td>142193</td>\n",
              "    </tr>\n",
              "    <tr>\n",
              "      <th>unique</th>\n",
              "      <td>3436</td>\n",
              "      <td>49</td>\n",
              "      <td>16</td>\n",
              "      <td>16</td>\n",
              "      <td>16</td>\n",
              "      <td>2</td>\n",
              "      <td>2</td>\n",
              "    </tr>\n",
              "    <tr>\n",
              "      <th>top</th>\n",
              "      <td>2013-11-12</td>\n",
              "      <td>Canberra</td>\n",
              "      <td>W</td>\n",
              "      <td>N</td>\n",
              "      <td>SE</td>\n",
              "      <td>No</td>\n",
              "      <td>No</td>\n",
              "    </tr>\n",
              "    <tr>\n",
              "      <th>freq</th>\n",
              "      <td>49</td>\n",
              "      <td>3436</td>\n",
              "      <td>9915</td>\n",
              "      <td>11758</td>\n",
              "      <td>10838</td>\n",
              "      <td>110319</td>\n",
              "      <td>110316</td>\n",
              "    </tr>\n",
              "  </tbody>\n",
              "</table>\n",
              "</div>\n",
              "    <div class=\"colab-df-buttons\">\n",
              "\n",
              "  <div class=\"colab-df-container\">\n",
              "    <button class=\"colab-df-convert\" onclick=\"convertToInteractive('df-8629840d-83a8-4526-8d20-1a2f4199875a')\"\n",
              "            title=\"Convert this dataframe to an interactive table.\"\n",
              "            style=\"display:none;\">\n",
              "\n",
              "  <svg xmlns=\"http://www.w3.org/2000/svg\" height=\"24px\" viewBox=\"0 -960 960 960\">\n",
              "    <path d=\"M120-120v-720h720v720H120Zm60-500h600v-160H180v160Zm220 220h160v-160H400v160Zm0 220h160v-160H400v160ZM180-400h160v-160H180v160Zm440 0h160v-160H620v160ZM180-180h160v-160H180v160Zm440 0h160v-160H620v160Z\"/>\n",
              "  </svg>\n",
              "    </button>\n",
              "\n",
              "  <style>\n",
              "    .colab-df-container {\n",
              "      display:flex;\n",
              "      gap: 12px;\n",
              "    }\n",
              "\n",
              "    .colab-df-convert {\n",
              "      background-color: #E8F0FE;\n",
              "      border: none;\n",
              "      border-radius: 50%;\n",
              "      cursor: pointer;\n",
              "      display: none;\n",
              "      fill: #1967D2;\n",
              "      height: 32px;\n",
              "      padding: 0 0 0 0;\n",
              "      width: 32px;\n",
              "    }\n",
              "\n",
              "    .colab-df-convert:hover {\n",
              "      background-color: #E2EBFA;\n",
              "      box-shadow: 0px 1px 2px rgba(60, 64, 67, 0.3), 0px 1px 3px 1px rgba(60, 64, 67, 0.15);\n",
              "      fill: #174EA6;\n",
              "    }\n",
              "\n",
              "    .colab-df-buttons div {\n",
              "      margin-bottom: 4px;\n",
              "    }\n",
              "\n",
              "    [theme=dark] .colab-df-convert {\n",
              "      background-color: #3B4455;\n",
              "      fill: #D2E3FC;\n",
              "    }\n",
              "\n",
              "    [theme=dark] .colab-df-convert:hover {\n",
              "      background-color: #434B5C;\n",
              "      box-shadow: 0px 1px 3px 1px rgba(0, 0, 0, 0.15);\n",
              "      filter: drop-shadow(0px 1px 2px rgba(0, 0, 0, 0.3));\n",
              "      fill: #FFFFFF;\n",
              "    }\n",
              "  </style>\n",
              "\n",
              "    <script>\n",
              "      const buttonEl =\n",
              "        document.querySelector('#df-8629840d-83a8-4526-8d20-1a2f4199875a button.colab-df-convert');\n",
              "      buttonEl.style.display =\n",
              "        google.colab.kernel.accessAllowed ? 'block' : 'none';\n",
              "\n",
              "      async function convertToInteractive(key) {\n",
              "        const element = document.querySelector('#df-8629840d-83a8-4526-8d20-1a2f4199875a');\n",
              "        const dataTable =\n",
              "          await google.colab.kernel.invokeFunction('convertToInteractive',\n",
              "                                                    [key], {});\n",
              "        if (!dataTable) return;\n",
              "\n",
              "        const docLinkHtml = 'Like what you see? Visit the ' +\n",
              "          '<a target=\"_blank\" href=https://colab.research.google.com/notebooks/data_table.ipynb>data table notebook</a>'\n",
              "          + ' to learn more about interactive tables.';\n",
              "        element.innerHTML = '';\n",
              "        dataTable['output_type'] = 'display_data';\n",
              "        await google.colab.output.renderOutput(dataTable, element);\n",
              "        const docLink = document.createElement('div');\n",
              "        docLink.innerHTML = docLinkHtml;\n",
              "        element.appendChild(docLink);\n",
              "      }\n",
              "    </script>\n",
              "  </div>\n",
              "\n",
              "\n",
              "<div id=\"df-03f3f9f4-d664-4689-9a8a-ce108182df47\">\n",
              "  <button class=\"colab-df-quickchart\" onclick=\"quickchart('df-03f3f9f4-d664-4689-9a8a-ce108182df47')\"\n",
              "            title=\"Suggest charts\"\n",
              "            style=\"display:none;\">\n",
              "\n",
              "<svg xmlns=\"http://www.w3.org/2000/svg\" height=\"24px\"viewBox=\"0 0 24 24\"\n",
              "     width=\"24px\">\n",
              "    <g>\n",
              "        <path d=\"M19 3H5c-1.1 0-2 .9-2 2v14c0 1.1.9 2 2 2h14c1.1 0 2-.9 2-2V5c0-1.1-.9-2-2-2zM9 17H7v-7h2v7zm4 0h-2V7h2v10zm4 0h-2v-4h2v4z\"/>\n",
              "    </g>\n",
              "</svg>\n",
              "  </button>\n",
              "\n",
              "<style>\n",
              "  .colab-df-quickchart {\n",
              "      --bg-color: #E8F0FE;\n",
              "      --fill-color: #1967D2;\n",
              "      --hover-bg-color: #E2EBFA;\n",
              "      --hover-fill-color: #174EA6;\n",
              "      --disabled-fill-color: #AAA;\n",
              "      --disabled-bg-color: #DDD;\n",
              "  }\n",
              "\n",
              "  [theme=dark] .colab-df-quickchart {\n",
              "      --bg-color: #3B4455;\n",
              "      --fill-color: #D2E3FC;\n",
              "      --hover-bg-color: #434B5C;\n",
              "      --hover-fill-color: #FFFFFF;\n",
              "      --disabled-bg-color: #3B4455;\n",
              "      --disabled-fill-color: #666;\n",
              "  }\n",
              "\n",
              "  .colab-df-quickchart {\n",
              "    background-color: var(--bg-color);\n",
              "    border: none;\n",
              "    border-radius: 50%;\n",
              "    cursor: pointer;\n",
              "    display: none;\n",
              "    fill: var(--fill-color);\n",
              "    height: 32px;\n",
              "    padding: 0;\n",
              "    width: 32px;\n",
              "  }\n",
              "\n",
              "  .colab-df-quickchart:hover {\n",
              "    background-color: var(--hover-bg-color);\n",
              "    box-shadow: 0 1px 2px rgba(60, 64, 67, 0.3), 0 1px 3px 1px rgba(60, 64, 67, 0.15);\n",
              "    fill: var(--button-hover-fill-color);\n",
              "  }\n",
              "\n",
              "  .colab-df-quickchart-complete:disabled,\n",
              "  .colab-df-quickchart-complete:disabled:hover {\n",
              "    background-color: var(--disabled-bg-color);\n",
              "    fill: var(--disabled-fill-color);\n",
              "    box-shadow: none;\n",
              "  }\n",
              "\n",
              "  .colab-df-spinner {\n",
              "    border: 2px solid var(--fill-color);\n",
              "    border-color: transparent;\n",
              "    border-bottom-color: var(--fill-color);\n",
              "    animation:\n",
              "      spin 1s steps(1) infinite;\n",
              "  }\n",
              "\n",
              "  @keyframes spin {\n",
              "    0% {\n",
              "      border-color: transparent;\n",
              "      border-bottom-color: var(--fill-color);\n",
              "      border-left-color: var(--fill-color);\n",
              "    }\n",
              "    20% {\n",
              "      border-color: transparent;\n",
              "      border-left-color: var(--fill-color);\n",
              "      border-top-color: var(--fill-color);\n",
              "    }\n",
              "    30% {\n",
              "      border-color: transparent;\n",
              "      border-left-color: var(--fill-color);\n",
              "      border-top-color: var(--fill-color);\n",
              "      border-right-color: var(--fill-color);\n",
              "    }\n",
              "    40% {\n",
              "      border-color: transparent;\n",
              "      border-right-color: var(--fill-color);\n",
              "      border-top-color: var(--fill-color);\n",
              "    }\n",
              "    60% {\n",
              "      border-color: transparent;\n",
              "      border-right-color: var(--fill-color);\n",
              "    }\n",
              "    80% {\n",
              "      border-color: transparent;\n",
              "      border-right-color: var(--fill-color);\n",
              "      border-bottom-color: var(--fill-color);\n",
              "    }\n",
              "    90% {\n",
              "      border-color: transparent;\n",
              "      border-bottom-color: var(--fill-color);\n",
              "    }\n",
              "  }\n",
              "</style>\n",
              "\n",
              "  <script>\n",
              "    async function quickchart(key) {\n",
              "      const quickchartButtonEl =\n",
              "        document.querySelector('#' + key + ' button');\n",
              "      quickchartButtonEl.disabled = true;  // To prevent multiple clicks.\n",
              "      quickchartButtonEl.classList.add('colab-df-spinner');\n",
              "      try {\n",
              "        const charts = await google.colab.kernel.invokeFunction(\n",
              "            'suggestCharts', [key], {});\n",
              "      } catch (error) {\n",
              "        console.error('Error during call to suggestCharts:', error);\n",
              "      }\n",
              "      quickchartButtonEl.classList.remove('colab-df-spinner');\n",
              "      quickchartButtonEl.classList.add('colab-df-quickchart-complete');\n",
              "    }\n",
              "    (() => {\n",
              "      let quickchartButtonEl =\n",
              "        document.querySelector('#df-03f3f9f4-d664-4689-9a8a-ce108182df47 button');\n",
              "      quickchartButtonEl.style.display =\n",
              "        google.colab.kernel.accessAllowed ? 'block' : 'none';\n",
              "    })();\n",
              "  </script>\n",
              "</div>\n",
              "    </div>\n",
              "  </div>\n"
            ],
            "application/vnd.google.colaboratory.intrinsic+json": {
              "type": "dataframe",
              "summary": "{\n  \"name\": \"rain\",\n  \"rows\": 4,\n  \"fields\": [\n    {\n      \"column\": \"Date\",\n      \"properties\": {\n        \"dtype\": \"date\",\n        \"min\": \"1970-01-01 00:00:00.000000049\",\n        \"max\": \"2013-11-12 00:00:00\",\n        \"num_unique_values\": 4,\n        \"samples\": [\n          3436,\n          \"49\",\n          \"145460\"\n        ],\n        \"semantic_type\": \"\",\n        \"description\": \"\"\n      }\n    },\n    {\n      \"column\": \"Location\",\n      \"properties\": {\n        \"dtype\": \"string\",\n        \"num_unique_values\": 4,\n        \"samples\": [\n          49,\n          \"3436\",\n          \"145460\"\n        ],\n        \"semantic_type\": \"\",\n        \"description\": \"\"\n      }\n    },\n    {\n      \"column\": \"WindGustDir\",\n      \"properties\": {\n        \"dtype\": \"string\",\n        \"num_unique_values\": 4,\n        \"samples\": [\n          16,\n          \"9915\",\n          \"135134\"\n        ],\n        \"semantic_type\": \"\",\n        \"description\": \"\"\n      }\n    },\n    {\n      \"column\": \"WindDir9am\",\n      \"properties\": {\n        \"dtype\": \"string\",\n        \"num_unique_values\": 4,\n        \"samples\": [\n          16,\n          \"11758\",\n          \"134894\"\n        ],\n        \"semantic_type\": \"\",\n        \"description\": \"\"\n      }\n    },\n    {\n      \"column\": \"WindDir3pm\",\n      \"properties\": {\n        \"dtype\": \"string\",\n        \"num_unique_values\": 4,\n        \"samples\": [\n          16,\n          \"10838\",\n          \"141232\"\n        ],\n        \"semantic_type\": \"\",\n        \"description\": \"\"\n      }\n    },\n    {\n      \"column\": \"RainToday\",\n      \"properties\": {\n        \"dtype\": \"string\",\n        \"num_unique_values\": 4,\n        \"samples\": [\n          2,\n          \"110319\",\n          \"142199\"\n        ],\n        \"semantic_type\": \"\",\n        \"description\": \"\"\n      }\n    },\n    {\n      \"column\": \"RainTomorrow\",\n      \"properties\": {\n        \"dtype\": \"string\",\n        \"num_unique_values\": 4,\n        \"samples\": [\n          2,\n          \"110316\",\n          \"142193\"\n        ],\n        \"semantic_type\": \"\",\n        \"description\": \"\"\n      }\n    }\n  ]\n}"
            }
          },
          "metadata": {},
          "execution_count": 8
        }
      ],
      "source": [
        "rain.describe(include=[object])"
      ]
    },
    {
      "cell_type": "code",
      "execution_count": null,
      "metadata": {
        "id": "-Syshz2shWod",
        "colab": {
          "base_uri": "https://localhost:8080/"
        },
        "outputId": "848f656f-6bfe-4377-8774-d98b95590d7d"
      },
      "outputs": [
        {
          "output_type": "stream",
          "name": "stdout",
          "text": [
            "Number of Categorical Features: 7\n",
            "Categorical Features:  ['Date', 'Location', 'WindGustDir', 'WindDir9am', 'WindDir3pm', 'RainToday', 'RainTomorrow']\n"
          ]
        }
      ],
      "source": [
        "# Categorical features in Dataset:\n",
        "categorical_features = [column_name for column_name in rain.columns if rain[column_name].dtype == 'O']\n",
        "print(\"Number of Categorical Features: {}\".format(len(categorical_features)))\n",
        "print(\"Categorical Features: \",categorical_features)"
      ]
    },
    {
      "cell_type": "code",
      "execution_count": null,
      "metadata": {
        "id": "Dc3yhLwJYYTT",
        "colab": {
          "base_uri": "https://localhost:8080/"
        },
        "outputId": "7610515d-6e47-40d5-defd-194ee7d6311c"
      },
      "outputs": [
        {
          "output_type": "stream",
          "name": "stdout",
          "text": [
            "Number of Numerical Features: 16\n",
            "Numerical Features:  ['MinTemp', 'MaxTemp', 'Rainfall', 'Evaporation', 'Sunshine', 'WindGustSpeed', 'WindSpeed9am', 'WindSpeed3pm', 'Humidity9am', 'Humidity3pm', 'Pressure9am', 'Pressure3pm', 'Cloud9am', 'Cloud3pm', 'Temp9am', 'Temp3pm']\n"
          ]
        }
      ],
      "source": [
        "# Numerical Features in Dataset:\n",
        "\n",
        "numerical_features = [column_name for column_name in rain.columns if rain[column_name].dtype != 'O']\n",
        "print(\"Number of Numerical Features: {}\".format(len(numerical_features)))\n",
        "print(\"Numerical Features: \",numerical_features)"
      ]
    },
    {
      "cell_type": "code",
      "execution_count": null,
      "metadata": {
        "id": "0ij4DYFtkozc",
        "colab": {
          "base_uri": "https://localhost:8080/"
        },
        "outputId": "c0ad453c-6d2b-4de4-904b-2d7c8908f204"
      },
      "outputs": [
        {
          "output_type": "stream",
          "name": "stdout",
          "text": [
            "Cardinality of Date are: 3436\n",
            "Cardinality of Location are: 49\n",
            "Cardinality of WindGustDir are: 17\n",
            "Cardinality of WindDir9am are: 17\n",
            "Cardinality of WindDir3pm are: 17\n",
            "Cardinality of RainToday are: 3\n",
            "Cardinality of RainTomorrow are: 3\n"
          ]
        }
      ],
      "source": [
        "#Cardinality: The number of unique values in each categorical feature is known as cardinality.\n",
        "for each_feature in categorical_features:\n",
        "   unique_values = len(rain[each_feature].unique())\n",
        "   print(\"Cardinality of {} are: {}\".format(each_feature, unique_values))"
      ]
    },
    {
      "cell_type": "code",
      "execution_count": null,
      "metadata": {
        "id": "mhK7uij6lOu4"
      },
      "outputs": [],
      "source": [
        "#axis = 1 specifies that you want to drop a column\n",
        "#inplace = True-changes to be made directly to the DataFrame 'rain' without returning a new DataFrame\n",
        "rain.drop('Date', axis = 1, inplace = True)"
      ]
    },
    {
      "cell_type": "code",
      "execution_count": null,
      "metadata": {
        "id": "SAX0hjsGkR5T",
        "colab": {
          "base_uri": "https://localhost:8080/",
          "height": 546
        },
        "outputId": "7c24bc2e-d887-4825-82ef-08fe94f18368"
      },
      "outputs": [
        {
          "output_type": "stream",
          "name": "stdout",
          "text": [
            "Total count of numerical data:  6\n",
            "Location            0\n",
            "WindGustDir     10326\n",
            "WindDir9am      10566\n",
            "WindDir3pm       4228\n",
            "RainToday        3261\n",
            "RainTomorrow     3267\n",
            "dtype: int64\n"
          ]
        },
        {
          "output_type": "display_data",
          "data": {
            "text/plain": [
              "<Figure size 400x400 with 1 Axes>"
            ],
            "image/png": "[encoded data removed]"
          },
          "metadata": {}
        }
      ],
      "source": [
        "# Handling Missing values in Categorical Features:\n",
        "categorical_features = [column_name for column_name in rain.columns if rain[column_name].dtype == 'O']\n",
        "missing_values_count_categorical = rain[categorical_features].isnull().sum()\n",
        "print(\"Total count of numerical data: \",len(missing_values_count_categorical))\n",
        "print(missing_values_count_categorical)\n",
        "\n",
        "plt.figure(figsize=(4, 4))  # Adjust figsize as needed\n",
        "missing_values_count_categorical.plot(kind='bar', color='skyblue')\n",
        "plt.title('Count of Missing Values for Categorical Features')\n",
        "plt.xlabel('Categorical Features')\n",
        "plt.ylabel('Count of Missing Values')\n",
        "plt.xticks(rotation=45, ha='right')\n",
        "plt.tight_layout()\n",
        "plt.show()"
      ]
    },
    {
      "cell_type": "code",
      "execution_count": null,
      "metadata": {
        "id": "N-1s2vinmLUi"
      },
      "outputs": [],
      "source": [
        "# Imputing the missing values in categorical features using the most frequent value which is mode:\n",
        "rain.replace(' ', pd.NA, inplace=True)\n",
        "categorical_features_with_null = [feature for feature in categorical_features if rain[feature].isnull().sum()]\n",
        "for feature in categorical_features_with_null:\n",
        "    # Find the first available mode (mode of the first non-null value)\n",
        "    first_mode = rain[feature].dropna().mode().iloc[0]\n",
        "    # Replace missing values with the first available mode\n",
        "    rain[feature].fillna(first_mode, inplace=True)"
      ]
    },
    {
      "cell_type": "code",
      "execution_count": null,
      "metadata": {
        "id": "_VNvSFYZO7ue"
      },
      "outputs": [],
      "source": [
        "#Encoding of Categorical Features:\n",
        "#Support Vector Machines can’t handle categorical data\n",
        "\n",
        "def encode_data(feature_name):\n",
        "\n",
        "    '''\n",
        "\n",
        "    This function takes feature name as a parameter and returns mapping dictionary to replace(or map) categorical data with numerical data.\n",
        "\n",
        "    '''\n",
        "\n",
        "    mapping_dict = {}\n",
        "\n",
        "    unique_values = list(rain[feature_name].unique())\n",
        "\n",
        "    for idx in range(len(unique_values)):\n",
        "\n",
        "        mapping_dict[unique_values[idx]] = idx\n",
        "    print(mapping_dict)\n",
        "\n",
        "    return mapping_dict"
      ]
    },
    {
      "cell_type": "code",
      "execution_count": null,
      "metadata": {
        "id": "I_5MI0hgPHpr",
        "colab": {
          "base_uri": "https://localhost:8080/"
        },
        "outputId": "71305759-1db4-4682-d529-f76f9811aa36"
      },
      "outputs": [
        {
          "output_type": "stream",
          "name": "stdout",
          "text": [
            "{'W': 0, 'WNW': 1, 'WSW': 2, 'NE': 3, 'NNW': 4, 'N': 5, 'NNE': 6, 'SW': 7, 'ENE': 8, 'SSE': 9, 'S': 10, 'NW': 11, 'SE': 12, 'ESE': 13, 'E': 14, 'SSW': 15}\n",
            "{'W': 0, 'NNW': 1, 'SE': 2, 'ENE': 3, 'SW': 4, 'SSE': 5, 'S': 6, 'NE': 7, 'N': 8, 'SSW': 9, 'WSW': 10, 'ESE': 11, 'E': 12, 'NW': 13, 'WNW': 14, 'NNE': 15}\n",
            "{'WNW': 0, 'WSW': 1, 'E': 2, 'NW': 3, 'W': 4, 'SSE': 5, 'ESE': 6, 'ENE': 7, 'NNW': 8, 'SSW': 9, 'SW': 10, 'SE': 11, 'N': 12, 'S': 13, 'NNE': 14, 'NE': 15}\n",
            "{'Albury': 0, 'BadgerysCreek': 1, 'Cobar': 2, 'CoffsHarbour': 3, 'Moree': 4, 'Newcastle': 5, 'NorahHead': 6, 'NorfolkIsland': 7, 'Penrith': 8, 'Richmond': 9, 'Sydney': 10, 'SydneyAirport': 11, 'WaggaWagga': 12, 'Williamtown': 13, 'Wollongong': 14, 'Canberra': 15, 'Tuggeranong': 16, 'MountGinini': 17, 'Ballarat': 18, 'Bendigo': 19, 'Sale': 20, 'MelbourneAirport': 21, 'Melbourne': 22, 'Mildura': 23, 'Nhil': 24, 'Portland': 25, 'Watsonia': 26, 'Dartmoor': 27, 'Brisbane': 28, 'Cairns': 29, 'GoldCoast': 30, 'Townsville': 31, 'Adelaide': 32, 'MountGambier': 33, 'Nuriootpa': 34, 'Woomera': 35, 'Albany': 36, 'Witchcliffe': 37, 'PearceRAAF': 38, 'PerthAirport': 39, 'Perth': 40, 'SalmonGums': 41, 'Walpole': 42, 'Hobart': 43, 'Launceston': 44, 'AliceSprings': 45, 'Darwin': 46, 'Katherine': 47, 'Uluru': 48}\n"
          ]
        }
      ],
      "source": [
        "rain['RainToday'].replace({'No':0, 'Yes': 1}, inplace = True)\n",
        "\n",
        "rain['RainTomorrow'].replace({'No':0, 'Yes': 1}, inplace = True)\n",
        "\n",
        "rain['WindGustDir'].replace(encode_data('WindGustDir'),inplace = True)\n",
        "\n",
        "rain['WindDir9am'].replace(encode_data('WindDir9am'),inplace = True)\n",
        "\n",
        "rain['WindDir3pm'].replace(encode_data('WindDir3pm'),inplace = True)\n",
        "\n",
        "rain['Location'].replace(encode_data('Location'), inplace = True)"
      ]
    },
    {
      "cell_type": "code",
      "execution_count": null,
      "metadata": {
        "id": "i23B4LWws1wU",
        "colab": {
          "base_uri": "https://localhost:8080/",
          "height": 923
        },
        "outputId": "63e0845a-c1a2-4417-c772-8c197b066064"
      },
      "outputs": [
        {
          "output_type": "stream",
          "name": "stdout",
          "text": [
            "Total count of numerical data:  22\n",
            "Sunshine         69835\n",
            "Evaporation      62790\n",
            "Cloud3pm         59358\n",
            "Cloud9am         55888\n",
            "Pressure9am      15065\n",
            "Pressure3pm      15028\n",
            "WindGustSpeed    10263\n",
            "Humidity3pm       4507\n",
            "Temp3pm           3609\n",
            "Rainfall          3261\n",
            "WindSpeed3pm      3062\n",
            "Humidity9am       2654\n",
            "Temp9am           1767\n",
            "WindSpeed9am      1767\n",
            "MinTemp           1485\n",
            "MaxTemp           1261\n",
            "RainToday            0\n",
            "Location             0\n",
            "WindDir3pm           0\n",
            "WindDir9am           0\n",
            "WindGustDir          0\n",
            "RainTomorrow         0\n",
            "dtype: int64\n"
          ]
        },
        {
          "output_type": "display_data",
          "data": {
            "text/plain": [
              "<Figure size 500x500 with 1 Axes>"
            ],
            "image/png": "[encoded data removed]"
          },
          "metadata": {}
        }
      ],
      "source": [
        "# Handling Missing values in Numerical features:\n",
        "numerical_features = [column_name for column_name in rain.columns if rain[column_name].dtype != 'O']\n",
        "missing_values_count=rain[numerical_features].isnull().sum().sort_values(ascending=False)\n",
        "print(\"Total count of numerical data: \",len(numerical_features))\n",
        "print(missing_values_count)\n",
        "# Plotting\n",
        "plt.figure(figsize=(5,5))\n",
        "missing_values_count.plot(kind='bar', color='skyblue')\n",
        "plt.title('Count of Missing Values for Numerical Features')\n",
        "plt.xlabel('Numerical Features')\n",
        "plt.ylabel('Count of Missing Values')\n",
        "plt.xticks(rotation=45, ha='right')\n",
        "plt.tight_layout()\n",
        "plt.show()"
      ]
    },
    {
      "cell_type": "code",
      "execution_count": null,
      "metadata": {
        "id": "3uBssCTKs9FT"
      },
      "outputs": [],
      "source": [
        "#Mean is sensitive to outliers and median is immune to outliers whereas mode is not\n",
        "features_with_outliers = ['MinTemp', 'MaxTemp', 'Rainfall',\n",
        "                          'Evaporation', 'WindGustSpeed','WindSpeed9am', 'WindSpeed3pm',\n",
        "                          'Humidity9am', 'Pressure9am', 'Pressure3pm', 'Temp9am', 'Temp3pm',\n",
        "                          'Sunshine','Cloud3pm','Cloud9am','Humidity3pm']\n",
        "for feature in features_with_outliers:\n",
        "    q1 = rain[feature].quantile(0.25)\n",
        "    q3 = rain[feature].quantile(0.75)\n",
        "    IQR = q3-q1\n",
        "    lower_limit = q1 - (IQR*1.5)\n",
        "    upper_limit = q3 + (IQR*1.5)\n",
        "    rain.loc[rain[feature]<lower_limit,feature] = lower_limit\n",
        "    rain.loc[rain[feature]>upper_limit,feature] = upper_limit"
      ]
    },
    {
      "cell_type": "code",
      "execution_count": null,
      "metadata": {
        "id": "oQBEwez-tDgb"
      },
      "outputs": [],
      "source": [
        "numerical_features = [column_name for column_name in rain.columns if rain[column_name].dtype != 'O']\n",
        "# 1. Fill missing numerical values with the mean\n",
        "rain_mean_filled = rain.copy()\n",
        "for feature in numerical_features:\n",
        "    mean_value = rain_mean_filled[feature].()\n",
        "    rain_mean_filled[feature].fillna(mean_valuemean, inplace=True)"
      ]
    },
    {
      "cell_type": "code",
      "execution_count": null,
      "metadata": {
        "id": "TmEDSuIhkQLQ",
        "colab": {
          "base_uri": "https://localhost:8080/",
          "height": 795
        },
        "outputId": "eb89e3ca-1ea7-4506-a821-91b77d79eed6"
      },
      "outputs": [
        {
          "output_type": "display_data",
          "data": {
            "text/plain": [
              "<Figure size 1000x800 with 2 Axes>"
            ],
            "image/png": "[encoded data removed]"
          },
          "metadata": {}
        }
      ],
      "source": [
        "# Calculate correlation matrix\n",
        "correlation_matrix = rain.corr(numeric_only=True)\n",
        "\n",
        "# Create a mask for upper triangular part\n",
        "mask = np.triu(np.ones_like(correlation_matrix, dtype=bool))\n",
        "\n",
        "# Set upper triangular part to NaN\n",
        "correlation_matrix[mask] = np.nan\n",
        "\n",
        "# Plot the heatmap\n",
        "plt.figure(figsize=(10, 8))\n",
        "sns.heatmap(correlation_matrix, linewidths=0.5, annot=False, fmt=\".2f\", cmap='viridis')\n",
        "plt.title('Correlation Matrix (Lower Triangular Only)')\n",
        "plt.show()"
      ]
    },
    {
      "cell_type": "code",
      "execution_count": null,
      "metadata": {
        "id": "VhrlPsW0lY1w",
        "colab": {
          "base_uri": "https://localhost:8080/"
        },
        "outputId": "61882477-d075-41f7-9ddc-27d750239784"
      },
      "outputs": [
        {
          "output_type": "stream",
          "name": "stdout",
          "text": [
            "Features positively correlated with RainTomorrow:\n",
            "MinTemp          0.082458\n",
            "Rainfall         0.329852\n",
            "WindGustSpeed    0.227193\n",
            "WindDir9am       0.007337\n",
            "WindSpeed9am     0.085341\n",
            "WindSpeed3pm     0.081977\n",
            "Humidity9am      0.254437\n",
            "Humidity3pm      0.439929\n",
            "Cloud9am         0.313025\n",
            "Cloud3pm         0.377607\n",
            "RainToday        0.305744\n",
            "RainTomorrow     1.000000\n",
            "dtype: float64\n"
          ]
        }
      ],
      "source": [
        "# Calculate Pearson correlation coefficient\n",
        "correlation_with_rain_tomorrow = rain.corrwith(rain['RainTomorrow'])\n",
        "\n",
        "# Select only positively correlated features\n",
        "positively_correlated_features = correlation_with_rain_tomorrow[correlation_with_rain_tomorrow > 0]\n",
        "\n",
        "# Display the positively correlated features\n",
        "print(\"Features positively correlated with RainTomorrow:\")\n",
        "print(positively_correlated_features)"
      ]
    },
    {
      "cell_type": "code",
      "execution_count": null,
      "metadata": {
        "id": "ht8ixHtqmJ04",
        "colab": {
          "base_uri": "https://localhost:8080/"
        },
        "outputId": "7b5c3bd5-40f8-479c-b399-caa047afc497"
      },
      "outputs": [
        {
          "output_type": "stream",
          "name": "stdout",
          "text": [
            "Features negatively correlated with RainTomorrow:\n",
            "Location      -0.007443\n",
            "MaxTemp       -0.156946\n",
            "Evaporation   -0.132703\n",
            "Sunshine      -0.443561\n",
            "WindGustDir   -0.056856\n",
            "WindDir3pm    -0.013087\n",
            "Pressure9am   -0.241871\n",
            "Pressure3pm   -0.221884\n",
            "Temp9am       -0.025590\n",
            "Temp3pm       -0.190000\n",
            "dtype: float64\n"
          ]
        }
      ],
      "source": [
        "\n",
        "# Select only negatively correlated features\n",
        "negatively_correlated_features = correlation_with_rain_tomorrow[correlation_with_rain_tomorrow < 0]\n",
        "\n",
        "# Display the negatively correlated features\n",
        "print(\"Features negatively correlated with RainTomorrow:\")\n",
        "print(negatively_correlated_features)"
      ]
    },
    {
      "cell_type": "code",
      "execution_count": null,
      "metadata": {
        "id": "B2dM6G4EX7_K"
      },
      "outputs": [],
      "source": [
        "# 2. Fill missing numerical values with the median\n",
        "rain_median_filled = rain.copy()\n",
        "for feature in numerical_features:\n",
        "    median_value = rain_median_filled[feature].median()\n",
        "    rain_median_filled[feature].fillna(median_value, inplace=True)"
      ]
    },
    {
      "cell_type": "code",
      "execution_count": null,
      "metadata": {
        "id": "RZqztsWsiaX9",
        "colab": {
          "base_uri": "https://localhost:8080/"
        },
        "outputId": "f27132a8-5848-4e25-9947-3f6398861fa4"
      },
      "outputs": [
        {
          "output_type": "stream",
          "name": "stderr",
          "text": [
            "/usr/local/lib/python3.10/dist-packages/sklearn/impute/_iterative.py:785: ConvergenceWarning: [IterativeImputer] Early stopping criterion not reached.\n",
            "  warnings.warn(\n"
          ]
        }
      ],
      "source": [
        "# 3. Use MICE (Multiple Imputation by Chained Equations) imputation\n",
        "imputer_mice = IterativeImputer(random_state=0)\n",
        "rain_mice_filled = rain.copy()\n",
        "rain_mice_filled[numerical_features] = imputer_mice.fit_transform(rain_mice_filled[numerical_features])"
      ]
    },
    {
      "cell_type": "code",
      "execution_count": null,
      "metadata": {
        "colab": {
          "background_save": true
        },
        "id": "mf3eeFk-p9lb",
        "outputId": "627ae7af-b02e-4dc2-fee7-3f33fcd8da95"
      },
      "outputs": [
        {
          "name": "stdout",
          "output_type": "stream",
          "text": [
            "Accuracy: 0.843152756771621\n"
          ]
        }
      ],
      "source": [
        "X = rain_mean_filled.drop(['RainTomorrow'], axis=1)\n",
        "y = rain_mean_filled['RainTomorrow']\n",
        "\n",
        "# Split the data into training and testing sets\n",
        "X_train, X_test, y_train, y_test = train_test_split(X, y, test_size=0.2, random_state=0)\n",
        "\n",
        "# Scale the features using StandardScaler\n",
        "scaler = StandardScaler()\n",
        "X_train_scaled = scaler.fit_transform(X_train)\n",
        "X_test_scaled = scaler.transform(X_test)\n",
        "\n",
        "# Initialize the SVM classifier\n",
        "svm_model = SVC(kernel='linear', random_state=0)  # Example: Linear kernel\n",
        "\n",
        "# Train the SVM model\n",
        "svm_model.fit(X_train_scaled, y_train)\n",
        "\n",
        "# Predict on the testing set\n",
        "y_pred = svm_model.predict(X_test_scaled)\n",
        "\n",
        "# Evaluate the model\n",
        "accuracy = accuracy_score(y_test, y_pred)\n",
        "print(\"Accuracy:\", accuracy)"
      ]
    },
    {
      "cell_type": "code",
      "execution_count": null,
      "metadata": {
        "id": "p8A_az7jOQ8b"
      },
      "outputs": [],
      "source": [
        "X = rain_mice_filled.drop(['RainTomorrow'], axis=1)\n",
        "y = rain_mice_filled['RainTomorrow']"
      ]
    },
    {
      "cell_type": "code",
      "execution_count": null,
      "metadata": {
        "colab": {
          "base_uri": "https://localhost:8080/"
        },
        "id": "oO7dnSMdvW22",
        "outputId": "c933151d-a4e6-45a1-d79d-0bd15724b5be"
      },
      "outputs": [
        {
          "name": "stdout",
          "output_type": "stream",
          "text": [
            "Accuracy: 0.8584834318713048\n"
          ]
        }
      ],
      "source": [
        "X = rain_mice_filled.drop(['RainTomorrow'], axis=1)\n",
        "y = rain_mice_filled['RainTomorrow']\n",
        "\n",
        "# Split the data into training and testing sets\n",
        "X_train, X_test, y_train, y_test = train_test_split(X, y, test_size=0.2, random_state=0)\n",
        "\n",
        "# Scale the features using StandardScaler\n",
        "scaler = StandardScaler()\n",
        "X_train_scaled = scaler.fit_transform(X_train)\n",
        "X_test_scaled = scaler.transform(X_test)\n",
        "\n",
        "# Initialize the SVM classifier\n",
        "svm_model = SVC(kernel='linear', random_state=0)  # Example: Linear kernel\n",
        "\n",
        "# Train the SVM model\n",
        "svm_model.fit(X_train_scaled, y_train)\n",
        "\n",
        "# Predict on the testing set\n",
        "y_pred = svm_model.predict(X_test_scaled)\n",
        "\n",
        "# Evaluate the model\n",
        "accuracy = accuracy_score(y_test, y_pred)\n",
        "print(\"Accuracy:\", accuracy)"
      ]
    },
    {
      "cell_type": "code",
      "execution_count": null,
      "metadata": {
        "colab": {
          "background_save": true
        },
        "id": "tw1fLFAdm5_g",
        "outputId": "f1e8c903-224b-443a-fd3e-088904af42fe"
      },
      "outputs": [
        {
          "name": "stdout",
          "output_type": "stream",
          "text": [
            "Accuracy: 0.8432215041935928\n"
          ]
        }
      ],
      "source": [
        "X = rain_median_filled.drop(['RainTomorrow'], axis=1)\n",
        "y = rain_median_filled['RainTomorrow']\n",
        "\n",
        "# Split the data into training and testing sets\n",
        "X_train, X_test, y_train, y_test = train_test_split(X, y, test_size=0.2, random_state=0)\n",
        "\n",
        "# Scale the features using StandardScaler\n",
        "scaler = StandardScaler()\n",
        "X_train_scaled = scaler.fit_transform(X_train)\n",
        "X_test_scaled = scaler.transform(X_test)\n",
        "\n",
        "# Initialize the SVM classifier\n",
        "svm_model = SVC(kernel='linear', random_state=0)  # Example: Linear kernel\n",
        "\n",
        "# Train the SVM model\n",
        "svm_model.fit(X_train_scaled, y_train)\n",
        "\n",
        "# Predict on the testing set\n",
        "y_pred = svm_model.predict(X_test_scaled)\n",
        "\n",
        "# Evaluate the model\n",
        "accuracy = accuracy_score(y_test, y_pred)\n",
        "print(\"Accuracy:\", accuracy)"
      ]
    },
    {
      "cell_type": "code",
      "execution_count": null,
      "metadata": {
        "colab": {
          "base_uri": "https://localhost:8080/"
        },
        "id": "Y8aTj8o_CHE-",
        "outputId": "418cf577-ddba-414a-a150-dc4e7849c769"
      },
      "outputs": [
        {
          "name": "stdout",
          "output_type": "stream",
          "text": [
            "Length of Training Data: 116368\n",
            "Length of Testing Data: 29092\n"
          ]
        }
      ],
      "source": [
        "from sklearn.model_selection import train_test_split\n",
        "X_train, X_test, y_train, y_test = train_test_split(X,y, test_size = 0.2, random_state = 0)\n",
        "print(\"Length of Training Data: {}\".format(len(X_train)))\n",
        "print(\"Length of Testing Data: {}\".format(len(X_test)))"
      ]
    },
    {
      "cell_type": "code",
      "execution_count": null,
      "metadata": {
        "colab": {
          "base_uri": "https://localhost:8080/"
        },
        "id": "mQyMiEW21BuV",
        "outputId": "b74c3292-0d4d-4dee-8096-1e537fdd4683"
      },
      "outputs": [
        {
          "output_type": "stream",
          "name": "stdout",
          "text": [
            "Epoch 1/10\n",
            "3637/3637 [==============================] - 10s 2ms/step - loss: 0.3280 - accuracy: 0.8576\n",
            "Epoch 2/10\n",
            "3637/3637 [==============================] - 7s 2ms/step - loss: 0.3041 - accuracy: 0.8695\n",
            "Epoch 3/10\n",
            "3637/3637 [==============================] - 8s 2ms/step - loss: 0.2538 - accuracy: 0.8970\n",
            "Epoch 4/10\n",
            "3637/3637 [==============================] - 8s 2ms/step - loss: 0.2258 - accuracy: 0.9094\n",
            "Epoch 5/10\n",
            "3637/3637 [==============================] - 8s 2ms/step - loss: 0.2150 - accuracy: 0.9117\n",
            "Epoch 6/10\n",
            "3637/3637 [==============================] - 9s 2ms/step - loss: 0.2083 - accuracy: 0.9147\n",
            "Epoch 7/10\n",
            "3637/3637 [==============================] - 7s 2ms/step - loss: 0.2034 - accuracy: 0.9162\n",
            "Epoch 8/10\n",
            "3637/3637 [==============================] - 9s 2ms/step - loss: 0.2002 - accuracy: 0.9174\n",
            "Epoch 9/10\n",
            "3637/3637 [==============================] - 7s 2ms/step - loss: 0.1968 - accuracy: 0.9183\n",
            "Epoch 10/10\n",
            "3637/3637 [==============================] - 9s 2ms/step - loss: 0.1944 - accuracy: 0.9198\n",
            "910/910 [==============================] - 1s 1ms/step\n",
            "Accuracy: 0.9153031761308951\n",
            "Precision: 0.8319156175569922\n",
            "Recall: 0.7681432610744581\n",
            "F1 Score: 0.7987585756288794\n"
          ]
        }
      ],
      "source": [
        "X = rain_mice_filled.drop(['RainTomorrow'], axis=1)\n",
        "# Assign the target variable 'RainTomorrow' to y\n",
        "y = rain_mice_filled['RainTomorrow']\n",
        "\n",
        "# Split the data into training and testing sets\n",
        "X_train, X_test, y_train, y_test = train_test_split(X, y, test_size=0.2, random_state=0)\n",
        "# Scale the features using StandardScaler\n",
        "scaler = StandardScaler()\n",
        "X_train_scaled = scaler.fit_transform(X_train)\n",
        "X_test_scaled = scaler.transform(X_test)\n",
        "\n",
        "# Define the ANN model\n",
        "#ReLU(x) = max(0, x)\n",
        "#sigmoid(x) = 1 / (1 + exp(-x))\n",
        "model = Sequential([\n",
        "    Dense(64, activation='relu', input_shape=(X_train_scaled.shape[1],)),\n",
        "    Dense(64, activation='relu'),\n",
        "    Dense(1, activation='sigmoid')\n",
        "])\n",
        "\n",
        "# Compile the model\n",
        "model.compile(optimizer='adam',loss='binary_crossentropy',metrics=['accuracy'])\n",
        "\n",
        "# Train the model\n",
        "model.fit(X_train_scaled, y_train, epochs=10, batch_size=32, verbose=1)\n",
        "\n",
        "# Predict on the testing set\n",
        "y_pred_proba = model.predict(X_test_scaled)\n",
        "y_pred = (y_pred_proba > 0.5).astype(int)\n",
        "\n",
        "# Evaluate the model\n",
        "#Accuracy = (Number of Correct Predictions) / (Total Number of Predictions)\n",
        "accuracy_ann = accuracy_score(y_test, y_pred)\n",
        "print(\"Accuracy:\", accuracy_ann)\n",
        "\n",
        "# Calculate precision\n",
        "#Precision = (True Positives) / (True Positives + False Positives)\n",
        "precision_ann = precision_score(y_test, y_pred)\n",
        "print(\"Precision:\", precision_ann)\n",
        "\n",
        "# Calculate recall\n",
        "#Recall = (True Positives) / (True Positives + False Negatives)\n",
        "recall_ann = recall_score(y_test, y_pred)\n",
        "print(\"Recall:\", recall_ann)\n",
        "\n",
        "# Calculate F1 score\n",
        "#F1 Score = 2 * (Precision * Recall) / (Precision + Recall)\n",
        "\n",
        "f1_ann = f1_score(y_test, y_pred)\n",
        "print(\"F1 Score:\", f1_ann)"
      ]
    },
    {
      "cell_type": "code",
      "source": [
        "from sklearn.metrics import roc_curve, roc_auc_score\n",
        "import matplotlib.pyplot as plt\n",
        "\n",
        "# Calculate the ROC curve\n",
        "fpr, tpr, thresholds = roc_curve(y_test, y_pred_proba)\n",
        "\n",
        "# Calculate the area under the ROC curve (AUC)\n",
        "roc_auc = roc_auc_score(y_test, y_pred_proba)\n",
        "\n",
        "# Plot ROC curve\n",
        "plt.figure(figsize=(8, 6))\n",
        "plt.plot(fpr, tpr, color='blue', lw=2, label='ROC curve (area = {:.2f})'.format(roc_auc))\n",
        "plt.plot([0, 1], [0, 1], color='red', lw=2, linestyle='--', label='Random Guess')\n",
        "plt.xlabel('False Positive Rate')\n",
        "plt.ylabel('True Positive Rate')\n",
        "plt.title('Receiver Operating Characteristic (ROC) Curve')\n",
        "plt.legend(loc='lower right')\n",
        "plt.show()\n"
      ],
      "metadata": {
        "colab": {
          "base_uri": "https://localhost:8080/",
          "height": 564
        },
        "id": "_3MJDO4gJO5Y",
        "outputId": "91a3eeaf-d7cf-40e3-94be-4a755ecb194a"
      },
      "execution_count": null,
      "outputs": [
        {
          "output_type": "display_data",
          "data": {
            "text/plain": [
              "<Figure size 800x600 with 1 Axes>"
            ],
            "image/png": "[encoded data removed]"
          },
          "metadata": {}
        }
      ]
    },
    {
      "cell_type": "code",
      "execution_count": null,
      "metadata": {
        "colab": {
          "base_uri": "https://localhost:8080/"
        },
        "id": "sLaKIMJNnyd5",
        "outputId": "67dff0aa-6a18-433d-80e9-8d1dbacf6116"
      },
      "outputs": [
        {
          "output_type": "stream",
          "name": "stdout",
          "text": [
            "910/910 [==============================] - 1s 1ms/step\n",
            "910/910 [==============================] - 1s 1ms/step\n",
            "910/910 [==============================] - 2s 2ms/step\n",
            "910/910 [==============================] - 1s 1ms/step\n",
            "910/910 [==============================] - 2s 2ms/step\n",
            "Cross-validation scores: [0.9145469544892066, 0.91468444933315, 0.9144094596452633, 0.9142375910903341, 0.91509693386498]\n",
            "Mean accuracy: 0.9145950776845867\n"
          ]
        }
      ],
      "source": [
        "# Scale the features using StandardScaler\n",
        "scaler = StandardScaler()\n",
        "X_scaled = scaler.fit_transform(X)\n",
        "\n",
        "# Define the ANN model\n",
        "def create_model():\n",
        "    model = Sequential([\n",
        "        Dense(64, activation='relu', input_shape=(X_scaled.shape[1],)),\n",
        "        Dense(64, activation='relu'),\n",
        "        Dense(1, activation='sigmoid')\n",
        "    ])\n",
        "    model.compile(optimizer='adam', loss='binary_crossentropy', metrics=['accuracy'])\n",
        "    return model\n",
        "\n",
        "# Initialize Stratified K-Fold cross-validator\n",
        "kfold = StratifiedKFold(n_splits=5, shuffle=True, random_state=0)\n",
        "\n",
        "# Initialize a list to store cross-validation scores\n",
        "cv_scores = []\n",
        "\n",
        "# Perform K-Fold cross-validation\n",
        "for train_index, test_index in kfold.split(X_scaled, y):\n",
        "    X_train, X_test = X_scaled[train_index], X_scaled[test_index]\n",
        "    y_train, y_test = y[train_index], y[test_index]\n",
        "\n",
        "    # Create and compile the model\n",
        "    model = create_model()\n",
        "\n",
        "    # Train the model\n",
        "    model.fit(X_train, y_train, epochs=10, batch_size=32, verbose=0)\n",
        "\n",
        "    # Evaluate the model\n",
        "    y_pred = (model.predict(X_test) > 0.5).astype(int)\n",
        "    accuracy = accuracy_score(y_test, y_pred)\n",
        "    cv_scores.append(accuracy)\n",
        "\n",
        "# Print the cross-validation scores\n",
        "print(\"Cross-validation scores:\", cv_scores)\n",
        "print(\"Mean accuracy:\", np.mean(cv_scores))"
      ]
    },
    {
      "cell_type": "code",
      "execution_count": null,
      "metadata": {
        "colab": {
          "base_uri": "https://localhost:8080/"
        },
        "id": "B00_xqZlopxA",
        "outputId": "cbfca7e2-9952-4283-8076-142c8c0a1fef"
      },
      "outputs": [
        {
          "output_type": "stream",
          "name": "stdout",
          "text": [
            "Epoch 1/10\n",
            "3637/3637 [==============================] - 31s 8ms/step - loss: 0.3460 - accuracy: 0.8491\n",
            "Epoch 2/10\n",
            "3637/3637 [==============================] - 22s 6ms/step - loss: 0.3282 - accuracy: 0.8587\n",
            "Epoch 3/10\n",
            "3637/3637 [==============================] - 23s 6ms/step - loss: 0.3210 - accuracy: 0.8619\n",
            "Epoch 4/10\n",
            "3637/3637 [==============================] - 24s 7ms/step - loss: 0.3148 - accuracy: 0.8649\n",
            "Epoch 5/10\n",
            "3637/3637 [==============================] - 23s 6ms/step - loss: 0.3093 - accuracy: 0.8674\n",
            "Epoch 6/10\n",
            "3637/3637 [==============================] - 23s 6ms/step - loss: 0.3051 - accuracy: 0.8694\n",
            "Epoch 7/10\n",
            "3637/3637 [==============================] - 25s 7ms/step - loss: 0.3031 - accuracy: 0.8709\n",
            "Epoch 8/10\n",
            "3637/3637 [==============================] - 25s 7ms/step - loss: 0.2995 - accuracy: 0.8724\n",
            "Epoch 9/10\n",
            "3637/3637 [==============================] - 24s 7ms/step - loss: 0.2973 - accuracy: 0.8727\n",
            "Epoch 10/10\n",
            "3637/3637 [==============================] - 26s 7ms/step - loss: 0.2953 - accuracy: 0.8746\n",
            "910/910 [==============================] - 3s 3ms/step\n",
            "Accuracy: 0.8699642513405748\n",
            "Precision: 0.7831615873711906\n",
            "Recall: 0.5611058749607288\n",
            "F1 Score: 0.6537933559073854\n"
          ]
        }
      ],
      "source": [
        "\n",
        "# Split the data into training and testing sets\n",
        "X_train, X_test, y_train, y_test = train_test_split(X, y, test_size=0.2, random_state=0)\n",
        "\n",
        "# Scale the features using StandardScaler\n",
        "scaler = StandardScaler()\n",
        "X_train_scaled = scaler.fit_transform(X_train)\n",
        "X_test_scaled = scaler.transform(X_test)\n",
        "\n",
        "# Reshape data for RNN input (assuming X has 2D shape)\n",
        "X_train_reshaped = np.reshape(X_train_scaled, (X_train_scaled.shape[0], X_train_scaled.shape[1], 1))\n",
        "X_test_reshaped = np.reshape(X_test_scaled, (X_test_scaled.shape[0], X_test_scaled.shape[1], 1))\n",
        "\n",
        "# Define the RNN model\n",
        "model = Sequential([\n",
        "    SimpleRNN(64, input_shape=(X_train_reshaped.shape[1], X_train_reshaped.shape[2])),\n",
        "    Dense(64, activation='relu'),\n",
        "    Dense(1, activation='sigmoid')\n",
        "])\n",
        "\n",
        "# Compile the model\n",
        "model.compile(optimizer='adam',\n",
        "              loss='binary_crossentropy',\n",
        "              metrics=['accuracy'])\n",
        "\n",
        "# Train the model\n",
        "model.fit(X_train_reshaped, y_train, epochs=10, batch_size=32, verbose=1)\n",
        "\n",
        "# Predict on the testing set\n",
        "y_pred_proba = model.predict(X_test_reshaped)\n",
        "y_pred = (y_pred_proba > 0.5).astype(int)\n",
        "\n",
        "# Evaluate the model\n",
        "accuracy_rnn = accuracy_score(y_test, y_pred)\n",
        "print(\"Accuracy:\", accuracy_rnn)\n",
        "# Calculate precision\n",
        "precision_rnn = precision_score(y_test, y_pred)\n",
        "print(\"Precision:\", precision_rnn)\n",
        "\n",
        "# Calculate recall\n",
        "recall_rnn = recall_score(y_test, y_pred)\n",
        "print(\"Recall:\", recall_rnn)\n",
        "\n",
        "# Calculate F1 score\n",
        "f1_rnn = f1_score(y_test, y_pred)\n",
        "print(\"F1 Score:\", f1_rnn)"
      ]
    },
    {
      "cell_type": "code",
      "source": [
        "\n",
        "# Calculate the ROC curve\n",
        "fpr_rnn, tpr_rnn, thresholds_rnn = roc_curve(y_test, y_pred_proba)\n",
        "\n",
        "# Calculate the area under the ROC curve (AUC)\n",
        "roc_auc_rnn = roc_auc_score(y_test, y_pred_proba)\n",
        "\n",
        "# Plot ROC curve\n",
        "plt.figure(figsize=(8, 6))\n",
        "plt.plot(fpr_rnn, tpr_rnn, color='blue', lw=2, label='ROC curve (area = {:.2f})'.format(roc_auc_rnn))\n",
        "plt.plot([0, 1], [0, 1], color='red', lw=2, linestyle='--', label='Random Guess')\n",
        "plt.xlabel('False Positive Rate')\n",
        "plt.ylabel('True Positive Rate')\n",
        "plt.title('Receiver Operating Characteristic (ROC) Curve for RNN')\n",
        "plt.legend(loc='lower right')\n",
        "plt.show()\n"
      ],
      "metadata": {
        "colab": {
          "base_uri": "https://localhost:8080/",
          "height": 564
        },
        "id": "QgUKTkk6Lbsy",
        "outputId": "b56d3c82-ed19-4fad-c5f3-ce7b35addc33"
      },
      "execution_count": null,
      "outputs": [
        {
          "output_type": "display_data",
          "data": {
            "text/plain": [
              "<Figure size 800x600 with 1 Axes>"
            ],
            "image/png": "[encoded data removed]"
          },
          "metadata": {}
        }
      ]
    },
    {
      "cell_type": "code",
      "execution_count": null,
      "metadata": {
        "colab": {
          "base_uri": "https://localhost:8080/"
        },
        "id": "b-T8Nko3wXKk",
        "outputId": "a150084f-914f-428b-f613-0f4e448de10b"
      },
      "outputs": [
        {
          "name": "stdout",
          "output_type": "stream",
          "text": [
            "910/910 [==============================] - 3s 3ms/step\n",
            "910/910 [==============================] - 3s 3ms/step\n",
            "910/910 [==============================] - 3s 3ms/step\n",
            "910/910 [==============================] - 3s 3ms/step\n",
            "910/910 [==============================] - 3s 3ms/step\n",
            "Cross-validation scores: [0.870754846693249, 0.8718548054447958, 0.8719579265777533, 0.8695517668087447, 0.8750171868554929]\n",
            "Mean accuracy: 0.8718273064760071\n"
          ]
        }
      ],
      "source": [
        "# Define number of folds for cross-validation\n",
        "n_splits = 5\n",
        "kf = KFold(n_splits=n_splits, shuffle=True, random_state=0)\n",
        "\n",
        "# Initialize an empty list to store cross-validation scores\n",
        "cv_scores = []\n",
        "\n",
        "# Scale the features using StandardScaler\n",
        "scaler = StandardScaler()\n",
        "X_scaled = scaler.fit_transform(X)\n",
        "\n",
        "# Reshape data for RNN input (assuming X has 2D shape)\n",
        "X_reshaped = np.reshape(X_scaled, (X_scaled.shape[0], X_scaled.shape[1], 1))\n",
        "\n",
        "# Perform cross-validation\n",
        "for train_index, test_index in kf.split(X_reshaped):\n",
        "    X_train, X_test = X_reshaped[train_index], X_reshaped[test_index]\n",
        "    y_train, y_test = y[train_index], y[test_index]\n",
        "\n",
        "    # Define the RNN model\n",
        "    model = Sequential([\n",
        "        SimpleRNN(64, input_shape=(X_train.shape[1], X_train.shape[2])),\n",
        "        Dense(64, activation='relu'),\n",
        "        Dense(1, activation='sigmoid')\n",
        "    ])\n",
        "\n",
        "    # Compile the model\n",
        "    model.compile(optimizer='adam',\n",
        "                  loss='binary_crossentropy',\n",
        "                  metrics=['accuracy'])\n",
        "\n",
        "    # Train the model\n",
        "    model.fit(X_train, y_train, epochs=10, batch_size=32, verbose=0)\n",
        "\n",
        "    # Predict on the testing set\n",
        "    y_pred_proba = model.predict(X_test)\n",
        "    y_pred = (y_pred_proba > 0.5).astype(int)\n",
        "\n",
        "    # Evaluate the model and append the accuracy to the list of scores\n",
        "    accuracy = accuracy_score(y_test, y_pred)\n",
        "    cv_scores.append(accuracy)\n",
        "\n",
        "# Print the cross-validation scores\n",
        "print(\"Cross-validation scores:\", cv_scores)\n",
        "print(\"Mean accuracy:\", np.mean(cv_scores))\n"
      ]
    },
    {
      "cell_type": "code",
      "execution_count": null,
      "metadata": {
        "colab": {
          "base_uri": "https://localhost:8080/"
        },
        "id": "uj25VmYf7CFc",
        "outputId": "84e8d235-2aa0-4385-e799-f129cf3b65a0"
      },
      "outputs": [
        {
          "output_type": "stream",
          "name": "stdout",
          "text": [
            "Epoch 1/10\n",
            "3637/3637 [==============================] - 58s 15ms/step - loss: 0.3712 - accuracy: 0.8391\n",
            "Epoch 2/10\n",
            "3637/3637 [==============================] - 48s 13ms/step - loss: 0.3550 - accuracy: 0.8464\n",
            "Epoch 3/10\n",
            "3637/3637 [==============================] - 48s 13ms/step - loss: 0.3465 - accuracy: 0.8508\n",
            "Epoch 4/10\n",
            "3637/3637 [==============================] - 46s 13ms/step - loss: 0.3370 - accuracy: 0.8554\n",
            "Epoch 5/10\n",
            "3637/3637 [==============================] - 46s 13ms/step - loss: 0.3289 - accuracy: 0.8587\n",
            "Epoch 6/10\n",
            "3637/3637 [==============================] - 51s 14ms/step - loss: 0.3219 - accuracy: 0.8620\n",
            "Epoch 7/10\n",
            "3637/3637 [==============================] - 47s 13ms/step - loss: 0.3137 - accuracy: 0.8663\n",
            "Epoch 8/10\n",
            "3637/3637 [==============================] - 48s 13ms/step - loss: 0.3050 - accuracy: 0.8709\n",
            "Epoch 9/10\n",
            "3637/3637 [==============================] - 48s 13ms/step - loss: 0.2956 - accuracy: 0.8752\n",
            "Epoch 10/10\n",
            "3637/3637 [==============================] - 57s 16ms/step - loss: 0.2856 - accuracy: 0.8806\n",
            "910/910 [==============================] - 4s 4ms/step\n",
            "Accuracy: 0.8742265915028187\n",
            "Precision: 0.7199739964245083\n",
            "Recall: 0.6958843857995601\n",
            "F1 Score: 0.7077242591261282\n"
          ]
        }
      ],
      "source": [
        "\n",
        "\n",
        "# Split the data into training and testing sets\n",
        "X_train, X_test, y_train, y_test = train_test_split(X, y, test_size=0.2, random_state=0)\n",
        "\n",
        "# Scale the features using StandardScaler\n",
        "scaler = StandardScaler()\n",
        "X_train_scaled = scaler.fit_transform(X_train)\n",
        "X_test_scaled = scaler.transform(X_test)\n",
        "\n",
        "# Reshape data for GRU input (assuming X has 2D shape)\n",
        "X_train_reshaped = np.reshape(X_train_scaled, (X_train_scaled.shape[0], X_train_scaled.shape[1], 1))\n",
        "X_test_reshaped = np.reshape(X_test_scaled, (X_test_scaled.shape[0], X_test_scaled.shape[1], 1))\n",
        "\n",
        "# Define the GRU model\n",
        "model = Sequential([\n",
        "    GRU(64, input_shape=(X_train_reshaped.shape[1], X_train_reshaped.shape[2])),\n",
        "    Dense(64, activation='relu'),\n",
        "    Dense(1, activation='sigmoid')\n",
        "])\n",
        "\n",
        "# Compile the model\n",
        "model.compile(optimizer='adam',\n",
        "              loss='binary_crossentropy',\n",
        "              metrics=['accuracy'])\n",
        "\n",
        "# Train the model\n",
        "model.fit(X_train_reshaped, y_train, epochs=10, batch_size=32, verbose=1)\n",
        "\n",
        "# Predict on the testing set\n",
        "y_pred_proba = model.predict(X_test_reshaped)\n",
        "y_pred = (y_pred_proba > 0.5).astype(int)\n",
        "\n",
        "# Evaluate the model\n",
        "accuracy_gru = accuracy_score(y_test, y_pred)\n",
        "print(\"Accuracy:\", accuracy_gru)\n",
        "\n",
        "# Calculate precision\n",
        "precision_gru = precision_score(y_test, y_pred)\n",
        "print(\"Precision:\", precision_gru)\n",
        "\n",
        "# Calculate recall\n",
        "recall_gru = recall_score(y_test, y_pred)\n",
        "print(\"Recall:\", recall_gru)\n",
        "\n",
        "# Calculate F1 score\n",
        "f1_gru = f1_score(y_test, y_pred)\n",
        "print(\"F1 Score:\", f1_gru)\n"
      ]
    },
    {
      "cell_type": "code",
      "source": [
        "# Calculate the ROC curve\n",
        "fpr_gru, tpr_gru, thresholds_gru = roc_curve(y_test, y_pred_proba)\n",
        "\n",
        "# Calculate the area under the ROC curve (AUC)\n",
        "roc_auc_gru = roc_auc_score(y_test, y_pred_proba)\n",
        "\n",
        "# Plot ROC curve\n",
        "plt.figure(figsize=(8, 6))\n",
        "plt.plot(fpr_gru, tpr_gru, color='blue', lw=2, label='ROC curve (area = {:.2f})'.format(roc_auc_gru))\n",
        "plt.plot([0, 1], [0, 1], color='red', lw=2, linestyle='--', label='Random Guess')\n",
        "plt.xlabel('False Positive Rate')\n",
        "plt.ylabel('True Positive Rate')\n",
        "plt.title('Receiver Operating Characteristic (ROC) Curve for GRU')\n",
        "plt.legend(loc='lower right')\n",
        "plt.show()"
      ],
      "metadata": {
        "colab": {
          "base_uri": "https://localhost:8080/",
          "height": 564
        },
        "id": "5MIk2elHMpKQ",
        "outputId": "2649c599-212c-4458-e806-609bd6cd9c38"
      },
      "execution_count": null,
      "outputs": [
        {
          "output_type": "display_data",
          "data": {
            "text/plain": [
              "<Figure size 800x600 with 1 Axes>"
            ],
            "image/png": "[encoded data removed]"
          },
          "metadata": {}
        }
      ]
    },
    {
      "cell_type": "code",
      "execution_count": null,
      "metadata": {
        "colab": {
          "base_uri": "https://localhost:8080/"
        },
        "id": "81Yo8PLj9VRg",
        "outputId": "2a39b48b-6c0f-4b5f-bdd2-5efe837a4856"
      },
      "outputs": [
        {
          "name": "stdout",
          "output_type": "stream",
          "text": [
            "910/910 [==============================] - 4s 4ms/step\n",
            "910/910 [==============================] - 4s 4ms/step\n",
            "910/910 [==============================] - 4s 4ms/step\n",
            "910/910 [==============================] - 4s 4ms/step\n",
            "910/910 [==============================] - 4s 4ms/step\n",
            "Cross-validation scores: [0.8822012924515331, 0.8741234703698612, 0.8796232641275952, 0.8683486869242404, 0.8719579265777533]\n",
            "Mean accuracy: 0.8752509280901967\n"
          ]
        }
      ],
      "source": [
        "\n",
        "\n",
        "# Define number of folds for cross-validation\n",
        "n_splits = 5\n",
        "kf = KFold(n_splits=n_splits, shuffle=True, random_state=0)\n",
        "\n",
        "# Initialize an empty list to store cross-validation scores\n",
        "cv_scores = []\n",
        "\n",
        "# Scale the features using StandardScaler\n",
        "scaler = StandardScaler()\n",
        "X_scaled = scaler.fit_transform(X)\n",
        "\n",
        "# Reshape data for GRU input (assuming X has 2D shape)\n",
        "X_reshaped = np.reshape(X_scaled, (X_scaled.shape[0], X_scaled.shape[1], 1))\n",
        "\n",
        "# Perform cross-validation\n",
        "for train_index, test_index in kf.split(X_reshaped):\n",
        "    X_train, X_test = X_reshaped[train_index], X_reshaped[test_index]\n",
        "    y_train, y_test = y[train_index], y[test_index]\n",
        "\n",
        "    # Define the GRU model\n",
        "    model = Sequential([\n",
        "        GRU(64, input_shape=(X_train.shape[1], X_train.shape[2])),\n",
        "        Dense(64, activation='relu'),\n",
        "        Dense(1, activation='sigmoid')\n",
        "    ])\n",
        "\n",
        "    # Compile the model\n",
        "    model.compile(optimizer='adam',\n",
        "                  loss='binary_crossentropy',\n",
        "                  metrics=['accuracy'])\n",
        "\n",
        "    # Train the model\n",
        "    model.fit(X_train, y_train, epochs=10, batch_size=32, verbose=0)\n",
        "\n",
        "    # Predict on the testing set\n",
        "    y_pred_proba = model.predict(X_test)\n",
        "    y_pred = (y_pred_proba > 0.5).astype(int)\n",
        "\n",
        "    # Evaluate the model and append the accuracy to the list of scores\n",
        "    accuracy = accuracy_score(y_test, y_pred)\n",
        "    cv_scores.append(accuracy)\n",
        "\n",
        "# Print the cross-validation scores\n",
        "print(\"Cross-validation scores:\", cv_scores)\n",
        "print(\"Mean accuracy:\", np.mean(cv_scores))\n"
      ]
    },
    {
      "cell_type": "code",
      "execution_count": null,
      "metadata": {
        "colab": {
          "base_uri": "https://localhost:8080/"
        },
        "id": "YJ2DrJmA9WYR",
        "outputId": "cf543c17-3983-4a3c-dba8-7e7c90e1f72c"
      },
      "outputs": [
        {
          "output_type": "stream",
          "name": "stdout",
          "text": [
            "Epoch 1/10\n",
            "3637/3637 [==============================] - 43s 11ms/step - loss: 0.4040 - accuracy: 0.8243\n",
            "Epoch 2/10\n",
            "3637/3637 [==============================] - 43s 12ms/step - loss: 0.3552 - accuracy: 0.8459\n",
            "Epoch 3/10\n",
            "3637/3637 [==============================] - 41s 11ms/step - loss: 0.3451 - accuracy: 0.8494\n",
            "Epoch 4/10\n",
            "3637/3637 [==============================] - 41s 11ms/step - loss: 0.3332 - accuracy: 0.8559\n",
            "Epoch 5/10\n",
            "3637/3637 [==============================] - 40s 11ms/step - loss: 0.3264 - accuracy: 0.8594\n",
            "Epoch 6/10\n",
            "3637/3637 [==============================] - 41s 11ms/step - loss: 0.3211 - accuracy: 0.8619\n",
            "Epoch 7/10\n",
            "3637/3637 [==============================] - 41s 11ms/step - loss: 0.3156 - accuracy: 0.8651\n",
            "Epoch 8/10\n",
            "3637/3637 [==============================] - 40s 11ms/step - loss: 0.3077 - accuracy: 0.8689\n",
            "Epoch 9/10\n",
            "3637/3637 [==============================] - 40s 11ms/step - loss: 0.2998 - accuracy: 0.8721\n",
            "Epoch 10/10\n",
            "3637/3637 [==============================] - 40s 11ms/step - loss: 0.2913 - accuracy: 0.8762\n",
            "910/910 [==============================] - 4s 4ms/step\n",
            "Accuracy: 0.879038911040836\n",
            "Precision: 0.7732770205413707\n",
            "Recall: 0.6327364121897581\n",
            "F1 Score: 0.6959827213822893\n"
          ]
        }
      ],
      "source": [
        "# Split the data into training and testing sets\n",
        "X_train, X_test, y_train, y_test = train_test_split(X, y, test_size=0.2, random_state=0)\n",
        "\n",
        "# Scale the features using StandardScaler\n",
        "scaler = StandardScaler()\n",
        "X_train_scaled = scaler.fit_transform(X_train)\n",
        "X_test_scaled = scaler.transform(X_test)\n",
        "\n",
        "# Reshape data for LSTM input (assuming X has 2D shape)\n",
        "X_train_reshaped = np.reshape(X_train_scaled, (X_train_scaled.shape[0], X_train_scaled.shape[1], 1))\n",
        "X_test_reshaped = np.reshape(X_test_scaled, (X_test_scaled.shape[0], X_test_scaled.shape[1], 1))\n",
        "\n",
        "# Define the LSTM model\n",
        "model = Sequential([\n",
        "    LSTM(64, input_shape=(X_train_reshaped.shape[1], X_train_reshaped.shape[2])),\n",
        "    Dense(64, activation='relu'),\n",
        "    Dense(1, activation='sigmoid')\n",
        "])\n",
        "\n",
        "# Compile the model\n",
        "model.compile(optimizer='adam',\n",
        "              loss='binary_crossentropy',\n",
        "              metrics=['accuracy'])\n",
        "\n",
        "# Train the model\n",
        "model.fit(X_train_reshaped, y_train, epochs=10, batch_size=32, verbose=1)\n",
        "# Predict on the testing set\n",
        "y_pred_proba = model.predict(X_test_reshaped)\n",
        "y_pred = (y_pred_proba > 0.5).astype(int)\n",
        "\n",
        "# Evaluate the model\n",
        "accuracy_lstm = accuracy_score(y_test, y_pred)\n",
        "print(\"Accuracy:\", accuracy_lstm)\n",
        "# Calculate precision\n",
        "precision_lstm = precision_score(y_test, y_pred)\n",
        "print(\"Precision:\", precision_lstm)\n",
        "\n",
        "# Calculate recall\n",
        "recall_lstm = recall_score(y_test, y_pred)\n",
        "print(\"Recall:\", recall_lstm)\n",
        "\n",
        "# Calculate F1 score\n",
        "f1_lstm = f1_score(y_test, y_pred)\n",
        "print(\"F1 Score:\", f1_lstm)\n",
        "\n"
      ]
    },
    {
      "cell_type": "code",
      "source": [
        "fpr_lstm, tpr_lstm, thresholds_lstm = roc_curve(y_test, y_pred_proba)\n",
        "\n",
        "# Calculate the area under the ROC curve (AUC)\n",
        "roc_auc_lstm = roc_auc_score(y_test, y_pred_proba)\n",
        "\n",
        "# Plot ROC curve\n",
        "plt.figure(figsize=(8, 6))\n",
        "plt.plot(fpr_lstm, tpr_lstm, color='blue', lw=2, label='ROC curve (area = {:.2f})'.format(roc_auc_lstm))\n",
        "plt.plot([0, 1], [0, 1], color='red', lw=2, linestyle='--', label='Random Guess')\n",
        "plt.xlabel('False Positive Rate')\n",
        "plt.ylabel('True Positive Rate')\n",
        "plt.title('Receiver Operating Characteristic (ROC) Curve for LSTM')\n",
        "plt.legend(loc='lower right')\n",
        "plt.show()"
      ],
      "metadata": {
        "colab": {
          "base_uri": "https://localhost:8080/",
          "height": 564
        },
        "id": "JGkXhdJKSOjv",
        "outputId": "61cee735-9754-454f-ddbc-2928a6256227"
      },
      "execution_count": null,
      "outputs": [
        {
          "output_type": "display_data",
          "data": {
            "text/plain": [
              "<Figure size 800x600 with 1 Axes>"
            ],
            "image/png": "[encoded data removed]"
          },
          "metadata": {}
        }
      ]
    },
    {
      "cell_type": "markdown",
      "source": [],
      "metadata": {
        "id": "XjSHCD1CpROv"
      }
    },
    {
      "cell_type": "code",
      "execution_count": null,
      "metadata": {
        "colab": {
          "base_uri": "https://localhost:8080/"
        },
        "id": "YO56kK8c0Fgl",
        "outputId": "81d3837b-aeaa-46d9-97b9-b34973e220e3"
      },
      "outputs": [
        {
          "name": "stdout",
          "output_type": "stream",
          "text": [
            "910/910 [==============================] - 2s 2ms/step\n",
            "910/910 [==============================] - 3s 3ms/step\n",
            "910/910 [==============================] - 2s 2ms/step\n",
            "910/910 [==============================] - 2s 2ms/step\n",
            "910/910 [==============================] - 2s 2ms/step\n",
            "Cross-validation scores: [0.8771483569366149, 0.8744328337687337, 0.8791076584628077, 0.8736078647050736, 0.8792107795957652]\n",
            "Mean accuracy: 0.8767014986937991\n"
          ]
        }
      ],
      "source": [
        "# Define number of folds for cross-validation\n",
        "n_splits = 5\n",
        "kf = KFold(n_splits=n_splits, shuffle=True, random_state=0)\n",
        "\n",
        "# Initialize an empty list to store cross-validation scores\n",
        "cv_scores = []\n",
        "\n",
        "# Scale the features using StandardScaler\n",
        "scaler = StandardScaler()\n",
        "X_scaled = scaler.fit_transform(X)\n",
        "\n",
        "# Reshape data for LSTM input (assuming X has 2D shape)\n",
        "X_reshaped = np.reshape(X_scaled, (X_scaled.shape[0], X_scaled.shape[1], 1))\n",
        "\n",
        "# Perform cross-validation\n",
        "for train_index, test_index in kf.split(X_reshaped):\n",
        "    X_train, X_test = X_reshaped[train_index], X_reshaped[test_index]\n",
        "    y_train, y_test = y[train_index], y[test_index]\n",
        "\n",
        "    # Define the LSTM model\n",
        "    model = Sequential([\n",
        "        LSTM(64, input_shape=(X_train.shape[1], X_train.shape[2])),\n",
        "        Dense(64, activation='relu'),\n",
        "        Dense(1, activation='sigmoid')\n",
        "    ])\n",
        "\n",
        "    # Compile the model\n",
        "    model.compile(optimizer='adam',\n",
        "                  loss='binary_crossentropy',\n",
        "                  metrics=['accuracy'])\n",
        "\n",
        "    # Train the model\n",
        "    model.fit(X_train, y_train, epochs=10, batch_size=32, verbose=0)\n",
        "\n",
        "    # Predict on the testing set\n",
        "    y_pred_proba = model.predict(X_test)\n",
        "    y_pred = (y_pred_proba > 0.5).astype(int)\n",
        "\n",
        "    # Evaluate the model and append the accuracy to the list of scores\n",
        "    accuracy = accuracy_score(y_test, y_pred)\n",
        "    cv_scores.append(accuracy)\n",
        "\n",
        "# Print the cross-validation scores\n",
        "print(\"Cross-validation scores:\", cv_scores)\n",
        "print(\"Mean accuracy:\", np.mean(cv_scores))"
      ]
    },
    {
      "cell_type": "code",
      "source": [
        "\n",
        "# Define the evaluation results from the previously calculated code\n",
        "evaluation_results = [\n",
        "    {\"Model\": \"ANN\", \"Accuracy\": accuracy_ann, \"Precision\": precision_ann, \"Recall\": recall_ann, \"F1 Score\": f1_ann},\n",
        "    {\"Model\": \"RNN\", \"Accuracy\": accuracy_rnn, \"Precision\": precision_rnn, \"Recall\": recall_rnn, \"F1 Score\": f1_rnn},\n",
        "    {\"Model\": \"GRU\", \"Accuracy\": accuracy_gru, \"Precision\": precision_gru, \"Recall\": recall_gru, \"F1 Score\": f1_gru},\n",
        "    {\"Model\": \"LSTM\", \"Accuracy\": accuracy_lstm, \"Precision\": precision_lstm, \"Recall\": recall_lstm, \"F1 Score\": f1_lstm}\n",
        "]\n",
        "\n",
        "# Create a DataFrame from the evaluation results\n",
        "df = pd.DataFrame(evaluation_results)\n",
        "\n",
        "# Display the comparison table\n",
        "print(df)"
      ],
      "metadata": {
        "colab": {
          "base_uri": "https://localhost:8080/"
        },
        "id": "r5leY-E3C64K",
        "outputId": "c8acda2b-fa85-4bb2-a98b-1f2c8747ab48"
      },
      "execution_count": null,
      "outputs": [
        {
          "output_type": "stream",
          "name": "stdout",
          "text": [
            "  Model  Accuracy  Precision    Recall  F1 Score\n",
            "0   ANN  0.913275   0.870874  0.708765  0.781502\n",
            "1   RNN  0.871339   0.744364  0.627553  0.680985\n",
            "2   GRU  0.877286   0.746387  0.665253  0.703488\n",
            "3  LSTM  0.881273   0.765596  0.659284  0.708474\n"
          ]
        }
      ]
    },
    {
      "cell_type": "code",
      "source": [
        "import matplotlib.pyplot as plt\n",
        "\n",
        "# Define the models and their corresponding metrics\n",
        "models = ['ANN', 'RNN', 'GRU', 'LSTM']\n",
        "accuracy = [accuracy_ann, accuracy_rnn, accuracy_gru, accuracy_lstm]\n",
        "precision = [precision_ann, precision_rnn, precision_gru, precision_lstm]\n",
        "recall = [recall_ann, recall_rnn, recall_gru, recall_lstm]\n",
        "f1_score = [f1_ann, f1_rnn, f1_gru, f1_lstm]\n",
        "\n",
        "# Set up the figure and axis\n",
        "fig, ax = plt.subplots(figsize=(10, 6))\n",
        "\n",
        "# Plot all metrics on the same graph\n",
        "ax.plot(models, accuracy, marker='o', linestyle='-', color='skyblue', label='Accuracy')\n",
        "ax.plot(models, precision, marker='o', linestyle='-', color='salmon', label='Precision')\n",
        "ax.plot(models, recall, marker='o', linestyle='-', color='lightgreen', label='Recall')\n",
        "ax.plot(models, f1_score, marker='o', linestyle='-', color='lightcoral', label='F1 Score')\n",
        "\n",
        "# Set axis labels and title\n",
        "ax.set_xlabel('Model')\n",
        "ax.set_ylabel('Score')\n",
        "ax.set_title('Model Performance Comparison')\n",
        "ax.set_ylim(0, 1)\n",
        "\n",
        "# Add a legend\n",
        "ax.legend()\n",
        "\n",
        "# Show plot\n",
        "plt.grid(True)\n",
        "plt.show()\n",
        "\n"
      ],
      "metadata": {
        "colab": {
          "base_uri": "https://localhost:8080/",
          "height": 564
        },
        "id": "GyUADTF1015j",
        "outputId": "73ba2777-6db8-4c47-a585-61773d469010"
      },
      "execution_count": null,
      "outputs": [
        {
          "output_type": "display_data",
          "data": {
            "text/plain": [
              "<Figure size 1000x600 with 1 Axes>"
            ],
            "image/png": "[encoded data removed]"
          },
          "metadata": {}
        }
      ]
    },
    {
      "cell_type": "code",
      "execution_count": null,
      "metadata": {
        "colab": {
          "base_uri": "https://localhost:8080/"
        },
        "id": "lstkg9yp7-5C",
        "outputId": "3784130f-8bb9-488a-cd5b-1601e555a5ad"
      },
      "outputs": [
        {
          "name": "stdout",
          "output_type": "stream",
          "text": [
            "Epoch 1/50\n",
            "2910/2910 [==============================] - 82s 27ms/step - loss: 0.4373 - accuracy: 0.8081 - val_loss: 0.3871 - val_accuracy: 0.8270\n",
            "Epoch 2/50\n",
            "2910/2910 [==============================] - 77s 26ms/step - loss: 0.3848 - accuracy: 0.8315 - val_loss: 0.3666 - val_accuracy: 0.8403\n",
            "Epoch 3/50\n",
            "2910/2910 [==============================] - 78s 27ms/step - loss: 0.3730 - accuracy: 0.8364 - val_loss: 0.3585 - val_accuracy: 0.8435\n",
            "Epoch 4/50\n",
            "2910/2910 [==============================] - 80s 27ms/step - loss: 0.3656 - accuracy: 0.8395 - val_loss: 0.3482 - val_accuracy: 0.8496\n",
            "Epoch 5/50\n",
            "2910/2910 [==============================] - 76s 26ms/step - loss: 0.3601 - accuracy: 0.8435 - val_loss: 0.3456 - val_accuracy: 0.8467\n",
            "Epoch 6/50\n",
            "2910/2910 [==============================] - 79s 27ms/step - loss: 0.3571 - accuracy: 0.8448 - val_loss: 0.3368 - val_accuracy: 0.8541\n",
            "Epoch 7/50\n",
            "2910/2910 [==============================] - 76s 26ms/step - loss: 0.3529 - accuracy: 0.8467 - val_loss: 0.3323 - val_accuracy: 0.8549\n",
            "Epoch 8/50\n",
            "2910/2910 [==============================] - 78s 27ms/step - loss: 0.3501 - accuracy: 0.8489 - val_loss: 0.3322 - val_accuracy: 0.8537\n",
            "Epoch 9/50\n",
            "2910/2910 [==============================] - 79s 27ms/step - loss: 0.3475 - accuracy: 0.8483 - val_loss: 0.3388 - val_accuracy: 0.8548\n",
            "Epoch 10/50\n",
            "2910/2910 [==============================] - 78s 27ms/step - loss: 0.3456 - accuracy: 0.8487 - val_loss: 0.3285 - val_accuracy: 0.8570\n",
            "Epoch 11/50\n",
            "2910/2910 [==============================] - 92s 31ms/step - loss: 0.3441 - accuracy: 0.8504 - val_loss: 0.3271 - val_accuracy: 0.8575\n",
            "Epoch 12/50\n",
            "2910/2910 [==============================] - 79s 27ms/step - loss: 0.3421 - accuracy: 0.8515 - val_loss: 0.3275 - val_accuracy: 0.8583\n",
            "Epoch 13/50\n",
            "2910/2910 [==============================] - 78s 27ms/step - loss: 0.3411 - accuracy: 0.8522 - val_loss: 0.3250 - val_accuracy: 0.8575\n",
            "Epoch 14/50\n",
            "2910/2910 [==============================] - 78s 27ms/step - loss: 0.3406 - accuracy: 0.8520 - val_loss: 0.3248 - val_accuracy: 0.8596\n",
            "Epoch 15/50\n",
            "2910/2910 [==============================] - 77s 27ms/step - loss: 0.3368 - accuracy: 0.8538 - val_loss: 0.3300 - val_accuracy: 0.8551\n",
            "Epoch 16/50\n",
            "2910/2910 [==============================] - 89s 30ms/step - loss: 0.3372 - accuracy: 0.8531 - val_loss: 0.3216 - val_accuracy: 0.8608\n",
            "Epoch 17/50\n",
            "2910/2910 [==============================] - 80s 27ms/step - loss: 0.3351 - accuracy: 0.8546 - val_loss: 0.3184 - val_accuracy: 0.8629\n",
            "Epoch 18/50\n",
            "2910/2910 [==============================] - 78s 27ms/step - loss: 0.3334 - accuracy: 0.8550 - val_loss: 0.3218 - val_accuracy: 0.8596\n",
            "Epoch 19/50\n",
            "2910/2910 [==============================] - 87s 30ms/step - loss: 0.3317 - accuracy: 0.8561 - val_loss: 0.3177 - val_accuracy: 0.8616\n",
            "Epoch 20/50\n",
            "2910/2910 [==============================] - 77s 26ms/step - loss: 0.3310 - accuracy: 0.8566 - val_loss: 0.3145 - val_accuracy: 0.8653\n",
            "Epoch 21/50\n",
            "2910/2910 [==============================] - 78s 27ms/step - loss: 0.3313 - accuracy: 0.8570 - val_loss: 0.3156 - val_accuracy: 0.8669\n",
            "Epoch 22/50\n",
            "2910/2910 [==============================] - 78s 27ms/step - loss: 0.3284 - accuracy: 0.8573 - val_loss: 0.3150 - val_accuracy: 0.8623\n",
            "Epoch 23/50\n",
            "2910/2910 [==============================] - 90s 31ms/step - loss: 0.3274 - accuracy: 0.8578 - val_loss: 0.3113 - val_accuracy: 0.8646\n",
            "Epoch 24/50\n",
            "2910/2910 [==============================] - 77s 27ms/step - loss: 0.3247 - accuracy: 0.8596 - val_loss: 0.3091 - val_accuracy: 0.8639\n",
            "Epoch 25/50\n",
            "2910/2910 [==============================] - 79s 27ms/step - loss: 0.3258 - accuracy: 0.8589 - val_loss: 0.3083 - val_accuracy: 0.8646\n",
            "Epoch 26/50\n",
            "2910/2910 [==============================] - 78s 27ms/step - loss: 0.3243 - accuracy: 0.8601 - val_loss: 0.3124 - val_accuracy: 0.8591\n",
            "Epoch 27/50\n",
            "2910/2910 [==============================] - 77s 26ms/step - loss: 0.3243 - accuracy: 0.8610 - val_loss: 0.3070 - val_accuracy: 0.8646\n",
            "Epoch 28/50\n",
            "2910/2910 [==============================] - 80s 27ms/step - loss: 0.3223 - accuracy: 0.8606 - val_loss: 0.3058 - val_accuracy: 0.8654\n",
            "Epoch 29/50\n",
            "2910/2910 [==============================] - 77s 26ms/step - loss: 0.3215 - accuracy: 0.8620 - val_loss: 0.3051 - val_accuracy: 0.8655\n",
            "Epoch 30/50\n",
            "2910/2910 [==============================] - 80s 27ms/step - loss: 0.3201 - accuracy: 0.8619 - val_loss: 0.3013 - val_accuracy: 0.8715\n",
            "Epoch 31/50\n",
            "2910/2910 [==============================] - 79s 27ms/step - loss: 0.3178 - accuracy: 0.8639 - val_loss: 0.3086 - val_accuracy: 0.8632\n",
            "Epoch 32/50\n",
            "2910/2910 [==============================] - 77s 26ms/step - loss: 0.3185 - accuracy: 0.8629 - val_loss: 0.3087 - val_accuracy: 0.8641\n",
            "Epoch 33/50\n",
            "2910/2910 [==============================] - 80s 27ms/step - loss: 0.3174 - accuracy: 0.8643 - val_loss: 0.2972 - val_accuracy: 0.8708\n",
            "Epoch 34/50\n",
            "2910/2910 [==============================] - 78s 27ms/step - loss: 0.3153 - accuracy: 0.8652 - val_loss: 0.3001 - val_accuracy: 0.8704\n",
            "Epoch 35/50\n",
            "2910/2910 [==============================] - 77s 26ms/step - loss: 0.3160 - accuracy: 0.8648 - val_loss: 0.2957 - val_accuracy: 0.8718\n",
            "Epoch 36/50\n",
            "2910/2910 [==============================] - 80s 28ms/step - loss: 0.3149 - accuracy: 0.8659 - val_loss: 0.2970 - val_accuracy: 0.8690\n",
            "Epoch 37/50\n",
            "2910/2910 [==============================] - 78s 27ms/step - loss: 0.3130 - accuracy: 0.8674 - val_loss: 0.2865 - val_accuracy: 0.8764\n",
            "Epoch 38/50\n",
            "2910/2910 [==============================] - 77s 26ms/step - loss: 0.3133 - accuracy: 0.8663 - val_loss: 0.2927 - val_accuracy: 0.8725\n",
            "Epoch 39/50\n",
            "2910/2910 [==============================] - 80s 28ms/step - loss: 0.3119 - accuracy: 0.8674 - val_loss: 0.2883 - val_accuracy: 0.8775\n",
            "Epoch 40/50\n",
            "2910/2910 [==============================] - 77s 26ms/step - loss: 0.3116 - accuracy: 0.8668 - val_loss: 0.2909 - val_accuracy: 0.8741\n",
            "910/910 [==============================] - 5s 5ms/step - loss: 0.2844 - accuracy: 0.8792\n",
            "Accuracy: 0.8792107701301575\n"
          ]
        }
      ],
      "source": [
        "\"\"\"from tensorflow.keras.layers import Dropout\n",
        "from tensorflow.keras.callbacks import EarlyStopping\n",
        "\n",
        "# Define the LSTM model with dropout regularization\n",
        "model = Sequential([\n",
        "    LSTM(64, input_shape=(X_train_reshaped.shape[1], X_train_reshaped.shape[2]), dropout=0.2, recurrent_dropout=0.2),\n",
        "    Dense(64, activation='relu'),\n",
        "    Dense(1, activation='sigmoid')\n",
        "])\n",
        "\n",
        "# Compile the model\n",
        "model.compile(optimizer='adam',\n",
        "              loss='binary_crossentropy',\n",
        "              metrics=['accuracy'])\n",
        "\n",
        "# Define early stopping callback\n",
        "early_stopping = EarlyStopping(patience=3, restore_best_weights=True)\n",
        "\n",
        "# Train the model with early stopping\n",
        "model.fit(X_train_reshaped, y_train, epochs=50, batch_size=32, verbose=1, validation_split=0.2, callbacks=[early_stopping])\n",
        "\n",
        "# Evaluate the model\n",
        "accuracy = model.evaluate(X_test_reshaped, y_test)[1]\n",
        "print(\"Accuracy:\", accuracy)\"\"\""
      ]
    },
    {
      "cell_type": "code",
      "execution_count": null,
      "metadata": {
        "colab": {
          "base_uri": "https://localhost:8080/"
        },
        "id": "PiIaf8qs9kuu",
        "outputId": "4bf4cae2-b120-47b1-c6bb-da9aed39f0d7"
      },
      "outputs": [
        {
          "output_type": "stream",
          "name": "stdout",
          "text": [
            "910/910 [==============================] - 5s 5ms/step\n",
            "910/910 [==============================] - 5s 5ms/step\n",
            "910/910 [==============================] - 2s 2ms/step\n",
            "910/910 [==============================] - 3s 3ms/step\n",
            "3637/3637 [==============================] - 19s 5ms/step\n",
            "3637/3637 [==============================] - 17s 5ms/step\n",
            "3637/3637 [==============================] - 5s 1ms/step\n",
            "3637/3637 [==============================] - 11s 3ms/step\n",
            "3637/3637 [==============================] - 8s 2ms/step\n",
            "910/910 [==============================] - 1s 2ms/step\n",
            "Training Accuracy: 0.8569108345937028\n",
            "Testing Accuracy: 0.8578990787845456\n",
            "Training Precision: 0.748040313549832\n",
            "Testing Precision: 0.7528318985047576\n",
            "Training Recall: 0.5236956606953863\n",
            "Testing Recall: 0.5219918316054037\n",
            "Training F1-score: 0.616079869036914\n",
            "Testing F1-score: 0.6165120593692023\n"
          ]
        }
      ],
      "source": [
        "\n",
        "\"\"\"# Split the data into training and testing sets\n",
        "X_train, X_test, y_train, y_test = train_test_split(X, y, test_size=0.2, random_state=0)\n",
        "\n",
        "# Scale the features using StandardScaler\n",
        "scaler = StandardScaler()\n",
        "X_train_scaled = scaler.fit_transform(X_train)\n",
        "X_test_scaled = scaler.transform(X_test)\n",
        "\n",
        "# Reshape data for LSTM input (assuming X has 2D shape)\n",
        "X_train_reshaped = np.reshape(X_train_scaled, (X_train_scaled.shape[0], X_train_scaled.shape[1], 1))\n",
        "X_test_reshaped = np.reshape(X_test_scaled, (X_test_scaled.shape[0], X_test_scaled.shape[1], 1))\n",
        "\n",
        "# Train base models\n",
        "lstm_model = Sequential([\n",
        "    LSTM(64, input_shape=(X_train_reshaped.shape[1], X_train_reshaped.shape[2])),\n",
        "    Dense(64, activation='relu')\n",
        "])\n",
        "lstm_model.compile(optimizer='adam', loss='binary_crossentropy', metrics=['accuracy'])\n",
        "lstm_model.fit(X_train_reshaped, y_train, epochs=10, batch_size=32, verbose=0)\n",
        "\n",
        "gru_model = Sequential([\n",
        "    GRU(64, input_shape=(X_train_reshaped.shape[1], X_train_reshaped.shape[2])),\n",
        "    Dense(64, activation='relu')\n",
        "])\n",
        "gru_model.compile(optimizer='adam', loss='binary_crossentropy', metrics=['accuracy'])\n",
        "gru_model.fit(X_train_reshaped, y_train, epochs=10, batch_size=32, verbose=0)\n",
        "\n",
        "ann_model = Sequential([\n",
        "    Dense(64, input_shape=(X_train_scaled.shape[1],)),\n",
        "    Dense(64, activation='relu')\n",
        "])\n",
        "ann_model.compile(optimizer='adam', loss='binary_crossentropy', metrics=['accuracy'])\n",
        "ann_model.fit(X_train_scaled, y_train, epochs=10, batch_size=32, verbose=0)\n",
        "\n",
        "rnn_model = Sequential([\n",
        "    SimpleRNN(64, input_shape=(X_train_reshaped.shape[1], X_train_reshaped.shape[2])),\n",
        "    Dense(64, activation='relu')\n",
        "])\n",
        "rnn_model.compile(optimizer='adam', loss='binary_crossentropy', metrics=['accuracy'])\n",
        "rnn_model.fit(X_train_reshaped, y_train, epochs=10, batch_size=32, verbose=0)\n",
        "\n",
        "# Generate predictions from base models\n",
        "lstm_preds = lstm_model.predict(X_test_reshaped)\n",
        "gru_preds = gru_model.predict(X_test_reshaped)\n",
        "ann_preds = ann_model.predict(X_test_scaled)\n",
        "rnn_preds = rnn_model.predict(X_test_reshaped)\n",
        "\n",
        "# Combine predictions as features\n",
        "stacked_X_test = np.concatenate((lstm_preds, gru_preds, ann_preds, rnn_preds), axis=1)\n",
        "\n",
        "# Train meta-learner\n",
        "meta_learner = Sequential([\n",
        "    Dense(64, input_shape=(stacked_X_test.shape[1],), activation='relu'),\n",
        "    Dense(1, activation='sigmoid')\n",
        "])\n",
        "meta_learner.compile(optimizer='adam', loss='binary_crossentropy', metrics=['accuracy'])\n",
        "meta_learner.fit(stacked_X_test, y_test, epochs=10, batch_size=32, verbose=0)\n",
        "\n",
        "# Generate predictions from base models for training set\n",
        "lstm_train_preds = lstm_model.predict(X_train_reshaped)\n",
        "gru_train_preds = gru_model.predict(X_train_reshaped)\n",
        "ann_train_preds = ann_model.predict(X_train_scaled)\n",
        "rnn_train_preds = rnn_model.predict(X_train_reshaped)\n",
        "\n",
        "# Combine predictions as features for training set\n",
        "stacked_X_train = np.concatenate((lstm_train_preds, gru_train_preds, ann_train_preds, rnn_train_preds), axis=1)\n",
        "\n",
        "# Generate predictions from base models for testing set\n",
        "ensemble_train_preds = meta_learner.predict(stacked_X_train)\n",
        "ensemble_train_preds = (ensemble_train_preds > 0.5).astype(int)\n",
        "\n",
        "ensemble_test_preds = meta_learner.predict(stacked_X_test)\n",
        "ensemble_test_preds = (ensemble_test_preds > 0.5).astype(int)\n",
        "\n",
        "# Evaluate ensemble model\n",
        "train_accuracy = accuracy_score(y_train, ensemble_train_preds)\n",
        "test_accuracy = accuracy_score(y_test, ensemble_test_preds)\n",
        "\n",
        "# Calculate precision, recall, and F1-score for training set\n",
        "precision_train = precision_score(y_train, ensemble_train_preds)\n",
        "recall_train = recall_score(y_train, ensemble_train_preds)\n",
        "f1_train = f1_score(y_train, ensemble_train_preds)\n",
        "\n",
        "# Calculate precision, recall, and F1-score for testing set\n",
        "precision_test = precision_score(y_test, ensemble_test_preds)\n",
        "recall_test = recall_score(y_test, ensemble_test_preds)\n",
        "f1_test = f1_score(y_test, ensemble_test_preds)\n",
        "\n",
        "# Print evaluation metrics\n",
        "print(\"Training Accuracy:\", train_accuracy)\n",
        "print(\"Testing Accuracy:\", test_accuracy)\n",
        "print(\"Training Precision:\", precision_train)\n",
        "print(\"Testing Precision:\", precision_test)\n",
        "print(\"Training Recall:\", recall_train)\n",
        "print(\"Testing Recall:\", recall_test)\n",
        "print(\"Training F1-score:\", f1_train)\n",
        "print(\"Testing F1-score:\", f1_test)\"\"\"\n"
      ]
    },
    {
      "cell_type": "code",
      "execution_count": null,
      "metadata": {
        "colab": {
          "base_uri": "https://localhost:8080/"
        },
        "id": "gTdoFM56kEGc",
        "outputId": "41b2ec8a-f6bb-4edc-d155-4156dae04cc5"
      },
      "outputs": [
        {
          "output_type": "stream",
          "name": "stdout",
          "text": [
            "Epoch 1/10\n",
            "2910/2910 [==============================] - 8s 2ms/step - loss: 0.0436 - val_loss: 0.0374\n",
            "Epoch 2/10\n",
            "2910/2910 [==============================] - 6s 2ms/step - loss: 0.0367 - val_loss: 0.0363\n",
            "Epoch 3/10\n",
            "2910/2910 [==============================] - 8s 3ms/step - loss: 0.0360 - val_loss: 0.0354\n",
            "Epoch 4/10\n",
            "2910/2910 [==============================] - 6s 2ms/step - loss: 0.0358 - val_loss: 0.0355\n",
            "Epoch 5/10\n",
            "2910/2910 [==============================] - 7s 2ms/step - loss: 0.0356 - val_loss: 0.0351\n",
            "Epoch 6/10\n",
            "2910/2910 [==============================] - 6s 2ms/step - loss: 0.0354 - val_loss: 0.0352\n",
            "Epoch 7/10\n",
            "2910/2910 [==============================] - 7s 2ms/step - loss: 0.0352 - val_loss: 0.0351\n",
            "Epoch 8/10\n",
            "2910/2910 [==============================] - 6s 2ms/step - loss: 0.0350 - val_loss: 0.0363\n",
            "Epoch 9/10\n",
            "2910/2910 [==============================] - 6s 2ms/step - loss: 0.0349 - val_loss: 0.0349\n",
            "Epoch 10/10\n",
            "2910/2910 [==============================] - 6s 2ms/step - loss: 0.0347 - val_loss: 0.0352\n",
            "910/910 [==============================] - 1s 1ms/step\n",
            "Mean Squared Error (MSE): 0.03465806140905399\n",
            "Mean Absolute Error (MAE): 0.1189078393508276\n",
            "Root Mean Squared Error (RMSE): 0.1861667569923642\n"
          ]
        }
      ],
      "source": [
        "\n",
        "# Adjust this based on your actual dataset\n",
        "X = rain_mice_filled.drop(['Rainfall'], axis=1)  # Features\n",
        "y = rain_mice_filled['Rainfall']  # Target variable\n",
        "\n",
        "# Split the data into training and testing sets\n",
        "X_train, X_test, y_train, y_test = train_test_split(X, y, test_size=0.2, random_state=0)\n",
        "\n",
        "# Scale the features using StandardScaler\n",
        "scaler = StandardScaler()\n",
        "X_train_scaled = scaler.fit_transform(X_train)\n",
        "X_test_scaled = scaler.transform(X_test)\n",
        "\n",
        "# Define the ANN model\n",
        "model1= Sequential([\n",
        "    Dense(64, activation='relu', input_shape=(X_train_scaled.shape[1],)),  # Input layer with 64 neurons and ReLU activation\n",
        "    Dense(64, activation='relu'),  # Hidden layer with 64 neurons and ReLU activation\n",
        "    Dense(1)  # Output layer; no activation function as we're predicting a continuous value\n",
        "])\n",
        "\n",
        "# Compile the model\n",
        "model1.compile(optimizer='adam', loss='mean_squared_error')  # Using mean squared error loss function for regression\n",
        "\n",
        "# Train the model\n",
        "model1.fit(X_train_scaled, y_train, epochs=10, batch_size=32, validation_split=0.2)\n",
        "\n",
        "# Predict on the testing set\n",
        "y_pred = model1.predict(X_test_scaled)\n",
        "\n",
        "# Evaluate the model using Mean Squared Error (MSE), Mean Absolute Error (MAE), and Root Mean Squared Error (RMSE)\n",
        "mse_ann = mean_squared_error(y_test, y_pred)\n",
        "#MSE = (1/n) * Σ(actual - predicted)^2\n",
        "mae_ann = mean_absolute_error(y_test, y_pred)\n",
        "#MAE = (1/n) * Σ|actual - predicted|\n",
        "rmse_ann = np.sqrt(mse_ann)\n",
        "#RMSE = sqrt(MSE)\n",
        "\n",
        "print(\"Mean Squared Error (MSE):\", mse_ann)\n",
        "print(\"Mean Absolute Error (MAE):\", mae_ann)\n",
        "print(\"Root Mean Squared Error (RMSE):\", rmse_ann)\n",
        "\n"
      ]
    },
    {
      "cell_type": "code",
      "execution_count": null,
      "metadata": {
        "colab": {
          "base_uri": "https://localhost:8080/"
        },
        "id": "jdmd2hL3pF82",
        "outputId": "cea86d78-a770-431f-9c62-16b727b07bdf"
      },
      "outputs": [
        {
          "name": "stdout",
          "output_type": "stream",
          "text": [
            "Fold 1/5:\n",
            "Validation Loss: 0.0344\n",
            "------------------------------\n",
            "Fold 2/5:\n",
            "Validation Loss: 0.0349\n",
            "------------------------------\n",
            "Fold 3/5:\n",
            "Validation Loss: 0.0274\n",
            "------------------------------\n",
            "Fold 4/5:\n",
            "Validation Loss: 0.0276\n",
            "------------------------------\n",
            "Fold 5/5:\n",
            "Validation Loss: 0.0254\n",
            "------------------------------\n",
            "Overall Results:\n",
            "Mean Loss (MSE): 0.0299 ± 0.0039\n"
          ]
        }
      ],
      "source": [
        "k_folds = 5\n",
        "\n",
        "kf = KFold(n_splits=k_folds, shuffle=True, random_state=42)\n",
        "\n",
        "mse_losses = []\n",
        "\n",
        "model1 = Sequential([\n",
        "    Dense(64, activation='relu', input_shape=(X_train_scaled.shape[1],)),\n",
        "    Dense(64, activation='relu'),\n",
        "    Dense(1)\n",
        "])\n",
        "\n",
        "model1.compile(optimizer='adam', loss='mean_squared_error')\n",
        "\n",
        "for fold, (train_indices, val_indices) in enumerate(kf.split(X_train_scaled), 1):\n",
        "    print(f'Fold {fold}/{k_folds}:')\n",
        "\n",
        "    X_train_fold = X_train_scaled[train_indices]\n",
        "    y_train_fold = y_train.iloc[train_indices]\n",
        "    X_val_fold = X_train_scaled[val_indices]\n",
        "    y_val_fold = y_train.iloc[val_indices]\n",
        "\n",
        "    model1.fit(X_train_fold, y_train_fold, epochs=10, batch_size=32, verbose=0)\n",
        "\n",
        "    mse_loss = model1.evaluate(X_val_fold, y_val_fold, verbose=0)\n",
        "\n",
        "    print(f'Validation Loss: {mse_loss:.4f}')\n",
        "    print('-' * 30)\n",
        "\n",
        "    mse_losses.append(mse_loss)\n",
        "\n",
        "mean_mse_loss = np.mean(mse_losses)\n",
        "std_mse_loss = np.std(mse_losses)\n",
        "\n",
        "print('Overall Results:')\n",
        "print(f'Mean Loss (MSE): {mean_mse_loss:.4f} ± {std_mse_loss:.4f}')"
      ]
    },
    {
      "cell_type": "code",
      "execution_count": null,
      "metadata": {
        "colab": {
          "base_uri": "https://localhost:8080/"
        },
        "id": "w8jqamxil6yI",
        "outputId": "3507a5fa-6ed8-4b6b-8946-a08aa966fb23"
      },
      "outputs": [
        {
          "output_type": "stream",
          "name": "stdout",
          "text": [
            "Epoch 1/10\n",
            "2910/2910 [==============================] - 10s 3ms/step - loss: 0.0479 - val_loss: 0.0371\n",
            "Epoch 2/10\n",
            "2910/2910 [==============================] - 9s 3ms/step - loss: 0.0369 - val_loss: 0.0358\n",
            "Epoch 3/10\n",
            "2910/2910 [==============================] - 9s 3ms/step - loss: 0.0361 - val_loss: 0.0351\n",
            "Epoch 4/10\n",
            "2910/2910 [==============================] - 11s 4ms/step - loss: 0.0358 - val_loss: 0.0364\n",
            "Epoch 5/10\n",
            "2910/2910 [==============================] - 7s 2ms/step - loss: 0.0355 - val_loss: 0.0351\n",
            "Epoch 6/10\n",
            "2910/2910 [==============================] - 9s 3ms/step - loss: 0.0354 - val_loss: 0.0355\n",
            "Epoch 7/10\n",
            "2910/2910 [==============================] - 7s 2ms/step - loss: 0.0352 - val_loss: 0.0351\n",
            "Epoch 8/10\n",
            "2910/2910 [==============================] - 9s 3ms/step - loss: 0.0350 - val_loss: 0.0352\n",
            "Epoch 9/10\n",
            "2910/2910 [==============================] - 7s 3ms/step - loss: 0.0350 - val_loss: 0.0354\n",
            "Epoch 10/10\n",
            "2910/2910 [==============================] - 8s 3ms/step - loss: 0.0348 - val_loss: 0.0349\n",
            "910/910 [==============================] - 1s 1ms/step\n",
            "Mean Squared Error (MSE): 0.03473103653168675\n",
            "Mean Absolute Error (MAE): 0.10294309667890006\n",
            "Root Mean Squared Error (RMSE): 0.18636264789835635\n"
          ]
        }
      ],
      "source": [
        "X = rain_mice_filled.drop(['Rainfall'], axis=1)  # Features\n",
        "y = rain_mice_filled['Rainfall']  # Target variable\n",
        "\n",
        "# Split the data into training and testing sets\n",
        "X_train, X_test, y_train, y_test = train_test_split(X, y, test_size=0.2, random_state=0)\n",
        "\n",
        "# Scale the features using StandardScaler\n",
        "scaler = StandardScaler()\n",
        "X_train_scaled = scaler.fit_transform(X_train)\n",
        "X_test_scaled = scaler.transform(X_test)\n",
        "\n",
        "# Reshape the input data for RNN (assuming you want to use the time series)\n",
        "# RNNs expect input data in the format (samples, time steps, features)\n",
        "# Here, we assume each feature is a time step\n",
        "X_train_reshaped = X_train_scaled.reshape(X_train_scaled.shape[0], 1, X_train_scaled.shape[1])\n",
        "X_test_reshaped = X_test_scaled.reshape(X_test_scaled.shape[0], 1, X_test_scaled.shape[1])\n",
        "\n",
        "# Define the RNN model\n",
        "model1 = Sequential([\n",
        "    SimpleRNN(64,activation='relu',input_shape=(X_train_reshaped.shape[1], X_train_reshaped.shape[2])),  # RNN layer with 64 units\n",
        "    Dense(64, activation='relu'),  # Hidden layer with 64 neurons and ReLU activation\n",
        "    Dense(1)  # Output layer; no activation function as we're predicting a continuous value\n",
        "])\n",
        "\n",
        "# Compile the model\n",
        "model1.compile(optimizer='adam', loss='mean_squared_error')  # Using mean squared error loss function for regression\n",
        "\n",
        "# Train the model\n",
        "model1.fit(X_train_reshaped, y_train, epochs=10, batch_size=32, validation_split=0.2)\n",
        "\n",
        "# Predict on the testing set\n",
        "y_pred = model1.predict(X_test_reshaped)\n",
        "\n",
        "# Evaluate the model using Mean Squared Error (MSE)\n",
        "mse_rnn = mean_squared_error(y_test, y_pred)\n",
        "mae_rnn = mean_absolute_error(y_test, y_pred)\n",
        "rmse_rnn = np.sqrt(mse_rnn)\n",
        "\n",
        "print(\"Mean Squared Error (MSE):\", mse_rnn)\n",
        "print(\"Mean Absolute Error (MAE):\", mae_rnn)\n",
        "print(\"Root Mean Squared Error (RMSE):\", rmse_rnn)\n"
      ]
    },
    {
      "cell_type": "code",
      "execution_count": null,
      "metadata": {
        "colab": {
          "base_uri": "https://localhost:8080/"
        },
        "id": "JckeICPUsVvk",
        "outputId": "7619b03d-7e32-481f-a571-6881f1431c61"
      },
      "outputs": [
        {
          "name": "stdout",
          "output_type": "stream",
          "text": [
            "Fold 1/5:\n",
            "Validation Loss: 0.0347\n",
            "------------------------------\n",
            "Fold 2/5:\n",
            "Validation Loss: 0.0302\n",
            "------------------------------\n",
            "Fold 3/5:\n",
            "Validation Loss: 0.0269\n",
            "------------------------------\n",
            "Fold 4/5:\n",
            "Validation Loss: 0.0263\n",
            "------------------------------\n",
            "Fold 5/5:\n",
            "Validation Loss: 0.0260\n",
            "------------------------------\n",
            "Overall Results:\n",
            "Mean Loss: 0.0288 ± 0.0033\n"
          ]
        }
      ],
      "source": [
        "k_folds = 5\n",
        "\n",
        "# Initialize a KFold instance\n",
        "kf = KFold(n_splits=k_folds, shuffle=True, random_state=42)\n",
        "\n",
        "# Initialize lists to store evaluation metrics for each fold\n",
        "losses = []\n",
        "\n",
        "# Define the RNN model\n",
        "model = Sequential([\n",
        "    SimpleRNN(64, activation='relu', input_shape=(X_train_reshaped.shape[1], X_train_reshaped.shape[2])),\n",
        "    Dense(64, activation='relu'),\n",
        "    Dense(1)  # Output layer; no activation function as we're predicting a continuous value\n",
        "])\n",
        "\n",
        "# Compile the model\n",
        "model.compile(optimizer='adam', loss='mean_squared_error')\n",
        "\n",
        "# Iterate over each fold\n",
        "for fold, (train_indices, val_indices) in enumerate(kf.split(X_train_reshaped), 1):\n",
        "    print(f'Fold {fold}/{k_folds}:')\n",
        "\n",
        "    # Split data into training and validation sets for this fold\n",
        "    X_train_fold = X_train_reshaped[train_indices]\n",
        "    y_train_fold = y_train.iloc[train_indices]\n",
        "    X_val_fold = X_train_reshaped[val_indices]\n",
        "    y_val_fold = y_train.iloc[val_indices]\n",
        "\n",
        "    # Train the model on the training data for this fold\n",
        "    model.fit(X_train_fold, y_train_fold, epochs=10, batch_size=32, verbose=0)\n",
        "\n",
        "    # Evaluate the model on the validation data for this fold\n",
        "    loss = model.evaluate(X_val_fold, y_val_fold, verbose=0)\n",
        "\n",
        "    # Print the validation loss for this fold\n",
        "    print(f'Validation Loss: {loss:.4f}')\n",
        "    print('-' * 30)\n",
        "\n",
        "    # Append the evaluation metric to the list\n",
        "    losses.append(loss)\n",
        "\n",
        "# Calculate the mean and standard deviation of losses across all folds\n",
        "mean_loss = np.mean(losses)\n",
        "std_loss = np.std(losses)\n",
        "\n",
        "# Print the overall mean and standard deviation of losses\n",
        "print('Overall Results:')\n",
        "print(f'Mean Loss: {mean_loss:.4f} ± {std_loss:.4f}')\n"
      ]
    },
    {
      "cell_type": "code",
      "execution_count": null,
      "metadata": {
        "colab": {
          "base_uri": "https://localhost:8080/"
        },
        "id": "__xIlYaHxsMG",
        "outputId": "1b270bc6-ec18-45ac-c334-3b1ac136e05a"
      },
      "outputs": [
        {
          "output_type": "stream",
          "name": "stdout",
          "text": [
            "Epoch 1/10\n",
            "2910/2910 [==============================] - 12s 3ms/step - loss: 0.1029 - val_loss: 0.0988\n",
            "Epoch 2/10\n",
            "2910/2910 [==============================] - 10s 3ms/step - loss: 0.0915 - val_loss: 0.0837\n",
            "Epoch 3/10\n",
            "2910/2910 [==============================] - 9s 3ms/step - loss: 0.0768 - val_loss: 0.0725\n",
            "Epoch 4/10\n",
            "2910/2910 [==============================] - 10s 3ms/step - loss: 0.0690 - val_loss: 0.0671\n",
            "Epoch 5/10\n",
            "2910/2910 [==============================] - 10s 3ms/step - loss: 0.0656 - val_loss: 0.0648\n",
            "Epoch 6/10\n",
            "2910/2910 [==============================] - 9s 3ms/step - loss: 0.0638 - val_loss: 0.0649\n",
            "Epoch 7/10\n",
            "2910/2910 [==============================] - 10s 3ms/step - loss: 0.0626 - val_loss: 0.0636\n",
            "Epoch 8/10\n",
            "2910/2910 [==============================] - 10s 3ms/step - loss: 0.0618 - val_loss: 0.0623\n",
            "Epoch 9/10\n",
            "2910/2910 [==============================] - 10s 3ms/step - loss: 0.0611 - val_loss: 0.0632\n",
            "Epoch 10/10\n",
            "2910/2910 [==============================] - 8s 3ms/step - loss: 0.0600 - val_loss: 0.0623\n",
            "910/910 [==============================] - 2s 2ms/step\n",
            "Mean Squared Error (MSE): 0.06341010514864796\n",
            "Mean Absolute Error (MAE): 0.13690953245830823\n",
            "Root Mean Squared Error (RMSE): 0.2518136317768519\n"
          ]
        }
      ],
      "source": [
        "\n",
        "\n",
        "# Split the data into training and testing sets\n",
        "X_train, X_test, y_train, y_test = train_test_split(X, y, test_size=0.2, random_state=0)\n",
        "\n",
        "# Scale the features using StandardScaler\n",
        "scaler = StandardScaler()\n",
        "X_train_scaled = scaler.fit_transform(X_train)\n",
        "X_test_scaled = scaler.transform(X_test)\n",
        "\n",
        "# Reshape the training and testing data for GRU input\n",
        "X_train_reshaped = X_train_scaled.reshape(X_train_scaled.shape[0], 1, X_train_scaled.shape[1])\n",
        "X_test_reshaped = X_test_scaled.reshape(X_test_scaled.shape[0], 1, X_test_scaled.shape[1])\n",
        "\n",
        "# Define the GRU model\n",
        "model1 = Sequential([\n",
        "    GRU(64, activation='relu', input_shape=(X_train_reshaped.shape[1], X_train_reshaped.shape[2])),  # GRU layer with 64 units\n",
        "    Dense(64, activation='relu'),  # Hidden layer with 64 neurons and ReLU activation\n",
        "    Dense(1)  # Output layer; no activation function as we're predicting a continuous value\n",
        "])\n",
        "\n",
        "# Compile the model\n",
        "model1.compile(optimizer='adam', loss='mean_squared_error')  # Using mean squared error loss function for regression\n",
        "\n",
        "# Train the model\n",
        "model1.fit(X_train_reshaped, y_train, epochs=10, batch_size=32, validation_split=0.2)\n",
        "\n",
        "# Predict on the testing set\n",
        "y_pred = model1.predict(X_test_reshaped)\n",
        "\n",
        "# Evaluate the model using Mean Squared Error (MSE)\n",
        "mse_gru = mean_squared_error(y_test, y_pred)\n",
        "mae_gru = mean_absolute_error(y_test, y_pred)  # Add mean_absolute_error\n",
        "rmse_gru = np.sqrt(mse_gru)\n",
        "\n",
        "print(\"Mean Squared Error (MSE):\", mse_gru)\n",
        "print(\"Mean Absolute Error (MAE):\", mae_gru)\n",
        "print(\"Root Mean Squared Error (RMSE):\", rmse_gru)"
      ]
    },
    {
      "cell_type": "code",
      "execution_count": null,
      "metadata": {
        "colab": {
          "base_uri": "https://localhost:8080/"
        },
        "id": "qJPKweGIyMk4",
        "outputId": "6d1feb87-01ca-4470-c154-6c93ffdb0d46"
      },
      "outputs": [
        {
          "name": "stdout",
          "output_type": "stream",
          "text": [
            "Fold 1/5:\n",
            "Validation Loss: 0.0622\n",
            "------------------------------\n",
            "Fold 2/5:\n",
            "Validation Loss: 0.0617\n",
            "------------------------------\n",
            "Fold 3/5:\n",
            "Validation Loss: 0.0573\n",
            "------------------------------\n",
            "Fold 4/5:\n",
            "Validation Loss: 0.0529\n",
            "------------------------------\n",
            "Fold 5/5:\n",
            "Validation Loss: 0.0523\n",
            "------------------------------\n",
            "Overall Results:\n",
            "Mean Loss: 0.0573 ± 0.0042\n"
          ]
        }
      ],
      "source": [
        "\n",
        "# Define the number of folds for cross-validation\n",
        "k_folds = 5\n",
        "\n",
        "# Initialize a KFold instance\n",
        "kf = KFold(n_splits=k_folds, shuffle=True, random_state=42)\n",
        "\n",
        "# Initialize lists to store evaluation metrics for each fold\n",
        "losses = []\n",
        "\n",
        "# Define the GRU model\n",
        "model_gru = Sequential([\n",
        "    GRU(64, activation='relu', input_shape=(X_train_reshaped.shape[1], X_train_reshaped.shape[2])),\n",
        "    Dense(64, activation='relu'),\n",
        "    Dense(1)  # Output layer; no activation function as we're predicting a continuous value\n",
        "])\n",
        "\n",
        "# Compile the model\n",
        "model_gru.compile(optimizer='adam', loss='mean_squared_error')\n",
        "\n",
        "# Iterate over each fold\n",
        "for fold, (train_indices, val_indices) in enumerate(kf.split(X_train_reshaped), 1):\n",
        "    print(f'Fold {fold}/{k_folds}:')\n",
        "\n",
        "    # Split data into training and validation sets for this fold\n",
        "    X_train_fold = X_train_reshaped[train_indices]\n",
        "    y_train_fold = y_train.iloc[train_indices]\n",
        "    X_val_fold = X_train_reshaped[val_indices]\n",
        "    y_val_fold = y_train.iloc[val_indices]\n",
        "\n",
        "    # Train the model on the training data for this fold\n",
        "    model_gru.fit(X_train_fold, y_train_fold, epochs=10, batch_size=32, verbose=0)\n",
        "\n",
        "    # Evaluate the model on the validation data for this fold\n",
        "    loss = model_gru.evaluate(X_val_fold, y_val_fold, verbose=0)\n",
        "\n",
        "    # Print the validation loss for this fold\n",
        "    print(f'Validation Loss: {loss:.4f}')\n",
        "    print('-' * 30)\n",
        "\n",
        "    # Append the evaluation metric to the list\n",
        "    losses.append(loss)\n",
        "\n",
        "# Calculate the mean and standard deviation of losses across all folds\n",
        "mean_loss = np.mean(losses)\n",
        "std_loss = np.std(losses)\n",
        "\n",
        "# Print the overall mean and standard deviation of losses\n",
        "print('Overall Results:')\n",
        "print(f'Mean Loss: {mean_loss:.4f} ± {std_loss:.4f}')\n",
        "\n"
      ]
    },
    {
      "cell_type": "code",
      "execution_count": null,
      "metadata": {
        "colab": {
          "base_uri": "https://localhost:8080/"
        },
        "id": "X_w2djVUWWZp",
        "outputId": "c6866c5c-3996-49f1-b415-53174812b636"
      },
      "outputs": [
        {
          "output_type": "stream",
          "name": "stdout",
          "text": [
            "Epoch 1/10\n",
            "2910/2910 [==============================] - 12s 4ms/step - loss: 0.1025 - val_loss: 0.0981\n",
            "Epoch 2/10\n",
            "2910/2910 [==============================] - 10s 3ms/step - loss: 0.0913 - val_loss: 0.0803\n",
            "Epoch 3/10\n",
            "2910/2910 [==============================] - 12s 4ms/step - loss: 0.0732 - val_loss: 0.0697\n",
            "Epoch 4/10\n",
            "2910/2910 [==============================] - 9s 3ms/step - loss: 0.0683 - val_loss: 0.0655\n",
            "Epoch 5/10\n",
            "2910/2910 [==============================] - 10s 4ms/step - loss: 0.0653 - val_loss: 0.0681\n",
            "Epoch 6/10\n",
            "2910/2910 [==============================] - 10s 4ms/step - loss: 0.0636 - val_loss: 0.0633\n",
            "Epoch 7/10\n",
            "2910/2910 [==============================] - 8s 3ms/step - loss: 0.0626 - val_loss: 0.0631\n",
            "Epoch 8/10\n",
            "2910/2910 [==============================] - 10s 3ms/step - loss: 0.0615 - val_loss: 0.0630\n",
            "Epoch 9/10\n",
            "2910/2910 [==============================] - 10s 3ms/step - loss: 0.0607 - val_loss: 0.0625\n",
            "Epoch 10/10\n",
            "2910/2910 [==============================] - 9s 3ms/step - loss: 0.0601 - val_loss: 0.0631\n",
            "910/910 [==============================] - 2s 2ms/step\n",
            "Mean Squared Error (MSE): 0.06365525138004877\n",
            "Mean Absolute Error (MAE): 0.13015005584380046\n",
            "Root Mean Squared Error (RMSE): 0.25229992346421504\n"
          ]
        }
      ],
      "source": [
        "# Split the data into training and testing sets\n",
        "X_train, X_test, y_train, y_test = train_test_split(X, y, test_size=0.2, random_state=0)\n",
        "\n",
        "# Scale the features using StandardScaler\n",
        "scaler = StandardScaler()\n",
        "X_train_scaled = scaler.fit_transform(X_train)\n",
        "X_test_scaled = scaler.transform(X_test)\n",
        "\n",
        "# Reshape the training and testing data for LSTM input\n",
        "X_train_reshaped = X_train_scaled.reshape(X_train_scaled.shape[0], 1, X_train_scaled.shape[1])\n",
        "X_test_reshaped = X_test_scaled.reshape(X_test_scaled.shape[0], 1, X_test_scaled.shape[1])\n",
        "\n",
        "# Define the LSTM model\n",
        "model_lstm = Sequential([\n",
        "    LSTM(64, activation='relu', input_shape=(X_train_reshaped.shape[1], X_train_reshaped.shape[2])),  # LSTM layer with 64 units\n",
        "    Dense(64, activation='relu'),  # Hidden layer with 64 neurons and ReLU activation\n",
        "    Dense(1)  # Output layer; no activation function as we're predicting a continuous value\n",
        "])\n",
        "\n",
        "# Compile the model\n",
        "model_lstm.compile(optimizer='adam', loss='mean_squared_error')  # Using mean squared error loss function for regression\n",
        "\n",
        "# Train the model\n",
        "model_lstm.fit(X_train_reshaped, y_train, epochs=10, batch_size=32, validation_split=0.2)\n",
        "\n",
        "# Predict on the testing set\n",
        "y_pred = model_lstm.predict(X_test_reshaped)\n",
        "\n",
        "# Evaluate the model using Mean Squared Error (MSE)\n",
        "mse_lstm = mean_squared_error(y_test, y_pred)\n",
        "mae_lstm = mean_absolute_error(y_test, y_pred)  # Add mean_absolute_error\n",
        "rmse_lstm = np.sqrt(mse_lstm)\n",
        "\n",
        "print(\"Mean Squared Error (MSE):\", mse_lstm)\n",
        "print(\"Mean Absolute Error (MAE):\", mae_lstm)\n",
        "print(\"Root Mean Squared Error (RMSE):\", rmse_lstm)\n"
      ]
    },
    {
      "cell_type": "code",
      "execution_count": null,
      "metadata": {
        "colab": {
          "base_uri": "https://localhost:8080/"
        },
        "id": "evx6ulEUXFuD",
        "outputId": "f8570e02-c727-4482-aee9-3f60e088b29b"
      },
      "outputs": [
        {
          "name": "stdout",
          "output_type": "stream",
          "text": [
            "Fold 1/5:\n",
            "Validation Loss: 0.0617\n",
            "------------------------------\n",
            "Fold 2/5:\n",
            "Validation Loss: 0.0602\n",
            "------------------------------\n",
            "Fold 3/5:\n",
            "Validation Loss: 0.0579\n",
            "------------------------------\n",
            "Fold 4/5:\n",
            "Validation Loss: 0.0543\n",
            "------------------------------\n",
            "Fold 5/5:\n",
            "Validation Loss: 0.0532\n",
            "------------------------------\n",
            "Overall Results:\n",
            "Mean Loss (MSE): 0.0575 ± 0.0033\n"
          ]
        }
      ],
      "source": [
        "\n",
        "# Define the number of folds for cross-validation\n",
        "k_folds = 5\n",
        "\n",
        "# Initialize a KFold instance\n",
        "kf = KFold(n_splits=k_folds, shuffle=True, random_state=42)\n",
        "\n",
        "# Initialize lists to store evaluation metrics for each fold\n",
        "mse_losses = []\n",
        "\n",
        "# Define the LSTM model\n",
        "model_lstm = Sequential([\n",
        "    LSTM(64, activation='relu', input_shape=(X_train_reshaped.shape[1], X_train_reshaped.shape[2])),\n",
        "    Dense(64, activation='relu'),\n",
        "    Dense(1)  # Output layer; no activation function as we're predicting a continuous value\n",
        "])\n",
        "\n",
        "# Compile the model\n",
        "model_lstm.compile(optimizer='adam', loss='mean_squared_error')\n",
        "\n",
        "# Iterate over each fold\n",
        "for fold, (train_indices, val_indices) in enumerate(kf.split(X_train_reshaped), 1):\n",
        "    print(f'Fold {fold}/{k_folds}:')\n",
        "\n",
        "    # Split data into training and validation sets for this fold\n",
        "    X_train_fold = X_train_reshaped[train_indices]\n",
        "    y_train_fold = y_train.iloc[train_indices]\n",
        "    X_val_fold = X_train_reshaped[val_indices]\n",
        "    y_val_fold = y_train.iloc[val_indices]\n",
        "\n",
        "    # Train the model on the training data for this fold\n",
        "    model_lstm.fit(X_train_fold, y_train_fold, epochs=10, batch_size=32, verbose=0)\n",
        "\n",
        "    # Evaluate the model on the validation data for this fold\n",
        "    mse_loss = model_lstm.evaluate(X_val_fold, y_val_fold, verbose=0)\n",
        "\n",
        "    # Print the validation loss for this fold\n",
        "    print(f'Validation Loss: {mse_loss:.4f}')\n",
        "    print('-' * 30)\n",
        "\n",
        "    # Append the evaluation metric to the list\n",
        "    mse_losses.append(mse_loss)\n",
        "\n",
        "# Calculate the mean and standard deviation of losses across all folds\n",
        "mean_loss = np.mean(mse_losses)\n",
        "std_loss = np.std(mse_losses)\n",
        "\n",
        "# Print the overall mean and standard deviation of losses\n",
        "print('Overall Results:')\n",
        "print(f'Mean Loss (MSE): {mean_loss:.4f} ± {std_loss:.4f}')\n"
      ]
    },
    {
      "cell_type": "code",
      "source": [
        "evaluation_results = {\n",
        "    'Model': ['ANN', 'RNN', 'GRU', 'LSTM'],\n",
        "    'MSE': [mse_ann, mse_rnn, mse_gru, mse_lstm],\n",
        "    'MAE': [mae_ann, mae_rnn, mae_gru, mae_lstm],\n",
        "    'RMSE': [rmse_ann, rmse_rnn, rmse_gru, rmse_lstm]\n",
        "}\n",
        "\n",
        "# Create a DataFrame from the evaluation results\n",
        "df = pd.DataFrame(evaluation_results)\n",
        "\n",
        "# Display the comparison table\n",
        "print(df)"
      ],
      "metadata": {
        "colab": {
          "base_uri": "https://localhost:8080/"
        },
        "id": "ASFLwdac7div",
        "outputId": "0b3ece6d-ae38-4ac6-fc0f-61c0cfc77add"
      },
      "execution_count": null,
      "outputs": [
        {
          "output_type": "stream",
          "name": "stdout",
          "text": [
            "  Model       MSE       MAE      RMSE\n",
            "0   ANN  0.034658  0.118908  0.186167\n",
            "1   RNN  0.034731  0.102943  0.186363\n",
            "2   GRU  0.063410  0.136910  0.251814\n",
            "3  LSTM  0.063655  0.130150  0.252300\n"
          ]
        }
      ]
    },
    {
      "cell_type": "code",
      "source": [
        "import matplotlib.pyplot as plt\n",
        "\n",
        "# Define the models and their corresponding metrics\n",
        "models = ['ANN', 'RNN', 'GRU', 'LSTM']\n",
        "mse = [mse_ann, mse_rnn, mse_gru, mse_lstm]\n",
        "mae = [mae_ann, mae_rnn, mae_gru, mae_lstm]\n",
        "rmse = [rmse_ann, rmse_rnn, rmse_gru, rmse_lstm]\n",
        "\n",
        "# Create a figure and axis\n",
        "plt.figure(figsize=(8, 6))\n",
        "\n",
        "# Plot MSE\n",
        "plt.plot(models, mse, marker='o', linestyle='-', color='skyblue', label='MSE')\n",
        "\n",
        "# Plot MAE\n",
        "plt.plot(models, mae, marker='o', linestyle='-', color='salmon', label='MAE')\n",
        "\n",
        "# Plot RMSE\n",
        "plt.plot(models, rmse, marker='o', linestyle='-', color='lightgreen', label='RMSE')\n",
        "\n",
        "# Add labels and title\n",
        "plt.xlabel('Model')\n",
        "plt.ylabel('Error')\n",
        "plt.title('Comparison of Error Metrics')\n",
        "plt.legend()\n",
        "\n",
        "# Show the plot\n",
        "plt.grid(True)\n",
        "plt.tight_layout()\n",
        "plt.show()\n"
      ],
      "metadata": {
        "colab": {
          "base_uri": "https://localhost:8080/",
          "height": 607
        },
        "id": "1BEMSSS779wb",
        "outputId": "0267e263-8727-46cb-b405-7b2c109870c4"
      },
      "execution_count": null,
      "outputs": [
        {
          "output_type": "display_data",
          "data": {
            "text/plain": [
              "<Figure size 800x600 with 1 Axes>"
            ],
            "image/png": "[encoded data removed]"
          },
          "metadata": {}
        }
      ]
    },
    {
      "cell_type": "code",
      "execution_count": null,
      "metadata": {
        "colab": {
          "base_uri": "https://localhost:8080/"
        },
        "id": "qDVRBLuJl0c0",
        "outputId": "022be326-afa0-4db0-e373-09f4f68db7ac"
      },
      "outputs": [
        {
          "name": "stdout",
          "output_type": "stream",
          "text": [
            "Epoch 1/10\n",
            "2910/2910 [==============================] - 11s 3ms/step - loss: 0.1069 - val_loss: 0.1027\n",
            "Epoch 2/10\n",
            "2910/2910 [==============================] - 7s 2ms/step - loss: 0.0974 - val_loss: 0.0949\n",
            "Epoch 3/10\n",
            "2910/2910 [==============================] - 9s 3ms/step - loss: 0.0847 - val_loss: 0.0783\n",
            "Epoch 4/10\n",
            "2910/2910 [==============================] - 7s 2ms/step - loss: 0.0718 - val_loss: 0.0741\n",
            "Epoch 5/10\n",
            "2910/2910 [==============================] - 8s 3ms/step - loss: 0.0680 - val_loss: 0.0696\n",
            "Epoch 6/10\n",
            "2910/2910 [==============================] - 12s 4ms/step - loss: 0.0656 - val_loss: 0.0664\n",
            "Epoch 7/10\n",
            "2910/2910 [==============================] - 7s 2ms/step - loss: 0.0643 - val_loss: 0.0695\n",
            "Epoch 8/10\n",
            "2910/2910 [==============================] - 8s 3ms/step - loss: 0.0633 - val_loss: 0.0645\n",
            "Epoch 9/10\n",
            "2910/2910 [==============================] - 7s 2ms/step - loss: 0.0626 - val_loss: 0.0654\n",
            "Epoch 10/10\n",
            "2910/2910 [==============================] - 8s 3ms/step - loss: 0.0618 - val_loss: 0.0667\n",
            "910/910 [==============================] - 1s 1ms/step\n",
            "910/910 [==============================] - 1s 1ms/step\n",
            "Epoch 1/10\n",
            "2910/2910 [==============================] - 12s 4ms/step - loss: 0.1065 - val_loss: 0.1010\n",
            "Epoch 2/10\n",
            "2910/2910 [==============================] - 10s 3ms/step - loss: 0.0975 - val_loss: 0.0965\n",
            "Epoch 3/10\n",
            "2910/2910 [==============================] - 10s 3ms/step - loss: 0.0855 - val_loss: 0.0776\n",
            "Epoch 4/10\n",
            "2910/2910 [==============================] - 9s 3ms/step - loss: 0.0711 - val_loss: 0.0697\n",
            "Epoch 5/10\n",
            "2910/2910 [==============================] - 10s 3ms/step - loss: 0.0670 - val_loss: 0.0672\n",
            "Epoch 6/10\n",
            "2910/2910 [==============================] - 10s 3ms/step - loss: 0.0648 - val_loss: 0.0664\n",
            "Epoch 7/10\n",
            "2910/2910 [==============================] - 10s 3ms/step - loss: 0.0636 - val_loss: 0.0652\n",
            "Epoch 8/10\n",
            "2910/2910 [==============================] - 9s 3ms/step - loss: 0.0627 - val_loss: 0.0654\n",
            "Epoch 9/10\n",
            "2910/2910 [==============================] - 10s 3ms/step - loss: 0.0618 - val_loss: 0.0646\n",
            "Epoch 10/10\n",
            "2910/2910 [==============================] - 10s 3ms/step - loss: 0.0611 - val_loss: 0.0634\n",
            "910/910 [==============================] - 2s 2ms/step\n",
            "Mean Squared Error (MSE) - Ensemble: 0.06207562235402634\n"
          ]
        }
      ],
      "source": [
        "\"\"\"import numpy as np\n",
        "from sklearn.model_selection import train_test_split\n",
        "from sklearn.metrics import mean_squared_error\n",
        "from tensorflow.keras.models import Sequential\n",
        "from tensorflow.keras.layers import Dense, SimpleRNN\n",
        "from sklearn.ensemble import RandomForestRegressor\n",
        "\n",
        "scaler = StandardScaler()\n",
        "X_train_scaled = scaler.fit_transform(X_train)\n",
        "X_test_scaled = scaler.transform(X_test)\n",
        "\n",
        "model1 = Sequential([\n",
        "    Dense(64, activation='relu', input_shape=(X_train_scaled.shape[1],)),  # Input layer with 64 neurons and ReLU activation\n",
        "    Dense(64, activation='relu'),  # Hidden layer with 64 neurons and ReLU activation\n",
        "    Dense(1)  # Output layer; no activation function as we're predicting a continuous value\n",
        "])\n",
        "\n",
        "# Compile the model\n",
        "model1.compile(optimizer='adam', loss='mean_squared_error')  # Using mean squared error loss function for regression\n",
        "\n",
        "# Train the model\n",
        "model1.fit(X_train_scaled, y_train, epochs=10, batch_size=32, validation_split=0.2)\n",
        "\n",
        "# Predict on the testing set\n",
        "y_pred1 = model1.predict(X_test_scaled)\n",
        "\n",
        "# Make predictions using the ANN model\n",
        "ann_predictions = ann_model.predict(X_test)\n",
        "\n",
        "X_train_reshaped = X_train_scaled.reshape(X_train_scaled.shape[0], 1, X_train_scaled.shape[1])\n",
        "X_test_reshaped = X_test_scaled.reshape(X_test_scaled.shape[0], 1, X_test_scaled.shape[1])\n",
        "\n",
        "# Define the RNN model\n",
        "model1 = Sequential([\n",
        "    SimpleRNN(64,activation='relu',input_shape=(X_train_reshaped.shape[1], X_train_reshaped.shape[2])),  # RNN layer with 64 units\n",
        "    Dense(64, activation='relu'),  # Hidden layer with 64 neurons and ReLU activation\n",
        "    Dense(1)  # Output layer; no activation function as we're predicting a continuous value\n",
        "])\n",
        "\n",
        "# Compile the model\n",
        "model1.compile(optimizer='adam', loss='mean_squared_error')  # Using mean squared error loss function for regression\n",
        "\n",
        "# Train the model\n",
        "model1.fit(X_train_reshaped, y_train, epochs=10, batch_size=32, validation_split=0.2)\n",
        "\n",
        "# Predict on the testing set\n",
        "y_pred2 = model1.predict(X_test_reshaped)\n",
        "\n",
        "# Combine predictions using a simple blending approach (e.g., averaging)\n",
        "ensemble_predictions = (y_pred1+y_pred2) / 2\n",
        "\n",
        "# Evaluate the ensemble model\n",
        "mse = mean_squared_error(y_test, ensemble_predictions)\n",
        "print(\"Mean Squared Error (MSE) - Ensemble:\", mse)\"\"\"\n"
      ]
    },
    {
      "cell_type": "code",
      "source": [
        "model.predict([[1,1.3,11.8,0,0,8,31,0,15,0,20,92,86,1016.9,1006.3,4,8,5,8.7,0,1]])"
      ],
      "metadata": {
        "colab": {
          "base_uri": "https://localhost:8080/"
        },
        "id": "-H7xVOgakhaY",
        "outputId": "7bb9a92c-4a8c-49b1-e03d-b853e129d82f"
      },
      "execution_count": null,
      "outputs": [
        {
          "output_type": "stream",
          "name": "stdout",
          "text": [
            "1/1 [==============================] - 0s 51ms/step\n"
          ]
        },
        {
          "output_type": "execute_result",
          "data": {
            "text/plain": [
              "array([[1.]], dtype=float32)"
            ]
          },
          "metadata": {},
          "execution_count": 98
        }
      ]
    },
    {
      "cell_type": "code",
      "source": [
        "model.predict([[1,13.4,22.9,0.6,0,0,1,44,0,1,20,24,71,22,1007.7,1007.1,8,0,16.9,21.8,0]])"
      ],
      "metadata": {
        "colab": {
          "base_uri": "https://localhost:8080/"
        },
        "id": "iZLjgbRTmv1A",
        "outputId": "09d93e12-06d1-4f0a-94dc-860f41c4e003"
      },
      "execution_count": null,
      "outputs": [
        {
          "output_type": "stream",
          "name": "stdout",
          "text": [
            "1/1 [==============================] - 0s 59ms/step\n"
          ]
        },
        {
          "output_type": "execute_result",
          "data": {
            "text/plain": [
              "array([[0.]], dtype=float32)"
            ]
          },
          "metadata": {},
          "execution_count": 99
        }
      ]
    },
    {
      "cell_type": "code",
      "source": [
        "model1.predict([[1,1.3,0.2,11.8,0,0,8,31,0,15,0,20,92,86,1016.9,1006.3,4,8,5,8.7,0]])"
      ],
      "metadata": {
        "colab": {
          "base_uri": "https://localhost:8080/"
        },
        "id": "HP5P6eDeUMlc",
        "outputId": "d6aadd0a-caaa-43cb-927b-7f8867fb8521"
      },
      "execution_count": null,
      "outputs": [
        {
          "output_type": "stream",
          "name": "stdout",
          "text": [
            "1/1 [==============================] - 0s 55ms/step\n"
          ]
        },
        {
          "output_type": "execute_result",
          "data": {
            "text/plain": [
              "array([[126.00102]], dtype=float32)"
            ]
          },
          "metadata": {},
          "execution_count": 70
        }
      ]
    },
    {
      "cell_type": "code",
      "source": [
        "# Assuming model.predict() returns probabilities for each class\n",
        "# Replace 'predicted_probabilities' with the actual output of model.predict()\n",
        "predicted_probabilities = model.predict([[1,13.4,22.9,0.6,0,0,1,44,0,1,20,24,71,22,1007.7,1007.1,8,0,16.9,21.8,0]])\n",
        "print(predicted_probabilities[0][0])\n",
        "# Check if the probability of rain is greater than or equal to 0.5\n",
        "if predicted_probabilities[0][0] >= 0.5:\n",
        "    print(\"There will be rain today. Please carry an umbrella\")\n",
        "    #print(model1.predict([[1,1.3,0,56,8,31,98,15,87,20,0,86,1016.9,1006.3,4,8,5,8.7,67,1,1]]))\n",
        "else:\n",
        "    print(\"There will be no rain today. Have a great day ahead\")\n"
      ],
      "metadata": {
        "colab": {
          "base_uri": "https://localhost:8080/"
        },
        "id": "M2mm_jn0i8ZD",
        "outputId": "c08f59fd-a745-4163-d167-133479504bd8"
      },
      "execution_count": null,
      "outputs": [
        {
          "output_type": "stream",
          "name": "stdout",
          "text": [
            "1/1 [==============================] - 0s 36ms/step\n",
            "0.0\n",
            "There will be no rain today. Have a great day ahead\n"
          ]
        }
      ]
    },
    {
      "cell_type": "code",
      "source": [
        "# Assuming model.predict() returns probabilities for each class\n",
        "# Replace 'predicted_probabilities' with the actual output of model.predict()\n",
        "predicted_probabilities = model.predict([[1,1.3,11.8,0,0,8,31,0,15,0,20,92,86,1016.9,1006.3,4,8,5,8.7,0,1]])\n",
        "print(predicted_probabilities[0][0])\n",
        "# Check if the probability of rain is greater than or equal to 0.5\n",
        "if predicted_probabilities[0][0] >= 0.5:\n",
        "    print(\"There will be rain today. Please carry an umbrella\")\n",
        "    #print(model1.predict([[1,1.3,0,56,8,31,98,15,87,20,0,86,1016.9,1006.3,4,8,5,8.7,67,1,1]]))\n",
        "else:\n",
        "    print(\"There will be no rain today. Have a great day ahead\")\n"
      ],
      "metadata": {
        "colab": {
          "base_uri": "https://localhost:8080/"
        },
        "id": "2LH4FMhXUb9j",
        "outputId": "81f9dd33-da1d-4713-d262-5d440cdefa6b"
      },
      "execution_count": null,
      "outputs": [
        {
          "output_type": "stream",
          "name": "stdout",
          "text": [
            "1/1 [==============================] - 0s 71ms/step\n",
            "1.0\n",
            "There will be rain today. Please carry an umbrella\n"
          ]
        }
      ]
    },
    {
      "cell_type": "code",
      "execution_count": null,
      "metadata": {
        "id": "WDwijJd-CRRh"
      },
      "outputs": [],
      "source": [
        "model.save('annc.h5')"
      ]
    },
    {
      "cell_type": "code",
      "source": [
        "model1.save('annp.h5')"
      ],
      "metadata": {
        "id": "q43MTx6FnoXo"
      },
      "execution_count": null,
      "outputs": []
    },
    {
      "cell_type": "code",
      "source": [],
      "metadata": {
        "id": "SoCtbXGfn9Y2"
      },
      "execution_count": null,
      "outputs": []
    }
  ],
  "metadata": {
    "colab": {
      "provenance": [],
      "include_colab_link": true
    },
    "kernelspec": {
      "display_name": "Python 3",
      "name": "python3"
    },
    "language_info": {
      "name": "python"
    }
  },
  "nbformat": 4,
  "nbformat_minor": 0
}